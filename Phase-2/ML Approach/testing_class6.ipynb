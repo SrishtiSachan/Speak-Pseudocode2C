{
  "nbformat": 4,
  "nbformat_minor": 0,
  "metadata": {
    "colab": {
      "name": "pseudocode2c.ipynb",
      "provenance": [],
      "collapsed_sections": []
    },
    "kernelspec": {
      "name": "python3",
      "display_name": "Python 3"
    },
    "language_info": {
      "name": "python"
    },
    "accelerator": "GPU"
  },
  "cells": [
    {
      "cell_type": "code",
      "metadata": {
        "colab": {
          "base_uri": "https://localhost:8080/"
        },
        "id": "ymaVMN9VFvks",
        "outputId": "843d3ae1-a191-474f-ab41-fd7fa2e057bc"
      },
      "source": [
        "from google.colab import drive\n",
        "drive.mount('/content/drive')"
      ],
      "execution_count": 4,
      "outputs": [
        {
          "output_type": "stream",
          "text": [
            "Mounted at /content/drive\n"
          ],
          "name": "stdout"
        }
      ]
    },
    {
      "cell_type": "code",
      "metadata": {
        "id": "E7Mt5xY8Fx48"
      },
      "source": [
        "%tensorflow_version 1.x\n",
        "import tensorflow as tf \n",
        "tf.__version__\n",
        "import numpy as np\n",
        "import pandas as pd\n",
        "import os\n",
        "import string\n",
        "from string import digits\n",
        "import matplotlib.pyplot as plt\n",
        "# %matplotlib inline\n",
        "import re\n",
        "from sklearn.utils import shuffle\n",
        "from sklearn.model_selection import train_test_split\n",
        "from tensorflow.keras.layers import Input, LSTM, Embedding, Dense\n",
        "from tensorflow.keras.models import Model"
      ],
      "execution_count": 43,
      "outputs": []
    },
    {
      "cell_type": "code",
      "metadata": {
        "colab": {
          "base_uri": "https://localhost:8080/"
        },
        "id": "QQP-x0L3F6aT",
        "outputId": "94b697bd-be22-4bf5-f799-50f8977d9de2"
      },
      "source": [
        "# LOADING DATA \n",
        "data_path = \"drive/MyDrive/dataset/spoc-train.tsv\"\n",
        "def read_data(data_path):\n",
        "    data = pd.read_csv(data_path, sep=\"\\t\")\n",
        "    # data.head()\n",
        "    return data \n",
        "\n",
        "data = read_data(data_path)\n",
        "data.shape\n"
      ],
      "execution_count": 44,
      "outputs": [
        {
          "output_type": "execute_result",
          "data": {
            "text/plain": [
              "(54, 2)"
            ]
          },
          "metadata": {
            "tags": []
          },
          "execution_count": 44
        }
      ]
    },
    {
      "cell_type": "code",
      "metadata": {
        "colab": {
          "base_uri": "https://localhost:8080/"
        },
        "id": "i6Xnrw5cF9cI",
        "outputId": "9d761b2e-0fcd-43f0-9d3a-6d7877e63558"
      },
      "source": [
        "# PREPROCESSING\n",
        "def preprocess_data(data, sampleCount):\n",
        "    # dropping unnecessary columns \n",
        "    # data = data.drop(['workerid', 'probid', 'subid', 'line', 'indent'], axis=1)\n",
        "\n",
        "    # dropping rows with NaN values \n",
        "    countNaN = pd.isnull(data).sum()\n",
        "    print(\"Rows with NaN values: \", countNaN)\n",
        "    df = data.dropna(axis=0, how=\"any\")\n",
        "    # df.head()\n",
        "    lines = df\n",
        "\n",
        "    # picking random sample of length \n",
        "    lines=lines.sample(n=sampleCount,random_state=42)\n",
        "\n",
        "    # lowercasing all characters\n",
        "    lines['text']=lines['text'].apply(lambda x: x.lower())\n",
        "    lines['code']=lines['code'].apply(lambda x: x.lower())\n",
        "\n",
        "    # removing extra spaces\n",
        "    lines['text']=lines['text'].apply(lambda x: x.strip())\n",
        "    lines['code']=lines['code'].apply(lambda x: x.strip())\n",
        "    \n",
        "    # removing semicolon\n",
        "    lines['text']=lines['text'].apply(lambda x: re.sub(\";\", \" \", x))\n",
        "    lines['code']=lines['code'].apply(lambda x: re.sub(\";\", \" \", x))\n",
        "\n",
        "    # removing brackets \n",
        "    lines['text']=lines['text'].apply(lambda x: re.sub(\"[\\[({})\\]]\", \" \", x))\n",
        "    lines['code']=lines['code'].apply(lambda x: re.sub(\"[\\[({})\\]]\", \" \", x))\n",
        "\n",
        "    lines['text']=lines['text'].apply(lambda x: re.sub(\" +\", \" \", x))\n",
        "    lines['code']=lines['code'].apply(lambda x: re.sub(\" +\", \" \", x))\n",
        "\n",
        "    # adding start and end tokens to target sequences\n",
        "    lines['code'] = lines['code'].apply(lambda x : 'START_ '+ x + ' _END')\n",
        "\n",
        "\n",
        "    # fetching all the distinct words in text and code columns \n",
        "    text_words = set()\n",
        "    for text_word in lines['text']:\n",
        "        for word in text_word.split():\n",
        "            if word not in text_words:\n",
        "                text_words.add(word)\n",
        "        \n",
        "    code_words = set()\n",
        "    for code_word in lines['code']:\n",
        "        for word in code_word.split():\n",
        "            if word not in code_words:\n",
        "                code_words.add(word)\n",
        "\n",
        "    lines['text_length']=lines['text'].apply(lambda x:len(x.split(\" \")))\n",
        "    lines['code_length']=lines['code'].apply(lambda x:len(x.split(\" \")))\n",
        "\n",
        "    # lines[lines['text_length']<=20].shape, lines[lines['code_length']<=20].shape\n",
        "\n",
        "    # clipping to 20 length\n",
        "    lines=lines[lines['text_length']<=20]\n",
        "    lines=lines[lines['code_length']<=20]\n",
        "\n",
        "    print(\"maximum length of codes \",max(lines['code_length']))\n",
        "    print(\"maximum length of texts \",max(lines['text_length']))\n",
        "\n",
        "    max_length_src=max(lines['text_length'])\n",
        "    max_length_tar=max(lines['code_length'])\n",
        "\n",
        "    input_words = sorted(list(text_words))\n",
        "    target_words = sorted(list(code_words))\n",
        "    num_encoder_tokens = len(text_words)\n",
        "    num_decoder_tokens = len(code_words)\n",
        "    num_encoder_tokens, num_decoder_tokens\n",
        "\n",
        "    num_decoder_tokens += 1 #for zero padding\n",
        "\n",
        "    # indexing all the tokens for all the codes and texts \n",
        "    input_token_index = dict([(word, i+1) for i, word in enumerate(input_words)])\n",
        "    target_token_index = dict([(word, i+1) for i, word in enumerate(target_words)])\n",
        "\n",
        "    lines = shuffle(lines)\n",
        "    lines.head(10)\n",
        "\n",
        "    return lines, max_length_src, max_length_tar, input_token_index, target_token_index, num_encoder_tokens, num_decoder_tokens\n",
        "\n",
        "lines, max_length_src, max_length_tar, input_token_index, target_token_index, num_encoder_tokens, num_decoder_tokens = preprocess_data(data, 54)"
      ],
      "execution_count": 45,
      "outputs": [
        {
          "output_type": "stream",
          "text": [
            "Rows with NaN values:  text    0\n",
            "code    0\n",
            "dtype: int64\n",
            "maximum length of codes  12\n",
            "maximum length of texts  9\n"
          ],
          "name": "stdout"
        }
      ]
    },
    {
      "cell_type": "code",
      "metadata": {
        "id": "FL41YoC8GBj-"
      },
      "source": [
        "reverse_input_char_index = dict((i, word) for word, i in input_token_index.items())\n",
        "reverse_target_char_index = dict((i, word) for word, i in target_token_index.items())"
      ],
      "execution_count": 46,
      "outputs": []
    },
    {
      "cell_type": "code",
      "metadata": {
        "colab": {
          "base_uri": "https://localhost:8080/"
        },
        "id": "ZAsIefm7GHZ1",
        "outputId": "a00090e6-6323-4a06-f839-67369ce0e591"
      },
      "source": [
        "# Splitting into training and test set  \n",
        "X, y = lines['text'], lines['code']\n",
        "X_train, X_test, y_train, y_test = train_test_split(X, y, test_size = 0.1,random_state=42)\n",
        "print(\"shape of train and test \", X_train.shape, X_test.shape)"
      ],
      "execution_count": 47,
      "outputs": [
        {
          "output_type": "stream",
          "text": [
            "shape of train and test  (48,) (6,)\n"
          ],
          "name": "stdout"
        }
      ]
    },
    {
      "cell_type": "code",
      "metadata": {
        "id": "BIHThvoxGJvy"
      },
      "source": [
        "def generate_batch(X = X_train, y = y_train, batch_size = 2):\n",
        "    ''' Generate a batch of data '''\n",
        "    while True:\n",
        "        for j in range(0, len(X), batch_size):\n",
        "            # one hot encoding \n",
        "            encoder_input_data = np.zeros((batch_size, max_length_src),dtype='float32')\n",
        "            decoder_input_data = np.zeros((batch_size, max_length_tar),dtype='float32')\n",
        "            decoder_target_data = np.zeros((batch_size, max_length_tar, num_decoder_tokens),dtype='float32')\n",
        "            for i, (input_text, target_text) in enumerate(zip(X[j:j+batch_size], y[j:j+batch_size])):\n",
        "                for t, word in enumerate(input_text.split()):\n",
        "                    encoder_input_data[i, t] = input_token_index[word] \n",
        "                for t, word in enumerate(target_text.split()):\n",
        "                    if t<len(target_text.split())-1:\n",
        "                        decoder_input_data[i, t] = target_token_index[word] \n",
        "                    if t>0:\n",
        "                        # print(\"decoder_target_data[\",i,t-1,target_token_index[word],\"]\")\n",
        "                        decoder_target_data[i, t - 1, target_token_index[word]] = 1.\n",
        "            yield([encoder_input_data, decoder_input_data], decoder_target_data)        # yielding one hot encoded data\n"
      ],
      "execution_count": 48,
      "outputs": []
    },
    {
      "cell_type": "code",
      "metadata": {
        "id": "6_xFZ56pGL8s"
      },
      "source": [
        "latent_dim=300"
      ],
      "execution_count": 49,
      "outputs": []
    },
    {
      "cell_type": "code",
      "metadata": {
        "id": "pNlKkjPNGNWz"
      },
      "source": [
        "# Encoder\n",
        "encoder_inputs = Input(shape=(None,))\n",
        "enc_emb =  Embedding(num_encoder_tokens, latent_dim, mask_zero = True)(encoder_inputs)\n",
        "\n",
        "encoder_lstm = LSTM(latent_dim, return_state=True)      \n",
        "# return_state is set to True so that the last layer of encoder returns the output to the first layer of decoder  \n",
        "\n",
        "encoder_outputs, state_h, state_c = encoder_lstm(enc_emb)\n",
        "encoder_states = [state_h, state_c]     # hidden state and cell state\n"
      ],
      "execution_count": 50,
      "outputs": []
    },
    {
      "cell_type": "code",
      "metadata": {
        "id": "Shw7eA7aGPvd"
      },
      "source": [
        "# Decoder\n",
        "decoder_inputs = Input(shape=(None,))\n",
        "dec_emb_layer = Embedding(num_decoder_tokens, latent_dim, mask_zero = True)\n",
        "dec_emb = dec_emb_layer(decoder_inputs)\n",
        "\n",
        "decoder_lstm = LSTM(latent_dim, return_sequences=True, return_state=True)\n",
        "# return_sequences and return_states are kept true so that the output of decoder states are captured \n",
        "\n",
        "decoder_outputs, _, _ = decoder_lstm(dec_emb, initial_state=encoder_states)\n",
        "decoder_dense = Dense(num_decoder_tokens, activation='softmax')\n",
        "decoder_outputs = decoder_dense(decoder_outputs)\n",
        "\n",
        "model = Model([encoder_inputs, decoder_inputs], decoder_outputs)"
      ],
      "execution_count": 51,
      "outputs": []
    },
    {
      "cell_type": "code",
      "metadata": {
        "id": "ufB3UjG8GSYp"
      },
      "source": [
        "model.compile(optimizer='rmsprop', loss='categorical_crossentropy')"
      ],
      "execution_count": 52,
      "outputs": []
    },
    {
      "cell_type": "code",
      "metadata": {
        "colab": {
          "base_uri": "https://localhost:8080/"
        },
        "id": "ZsQ2hh_XGUwP",
        "outputId": "3009ed8d-8b80-4f27-c169-8df26c26b069"
      },
      "source": [
        "model.summary()"
      ],
      "execution_count": 53,
      "outputs": [
        {
          "output_type": "stream",
          "text": [
            "Model: \"model_3\"\n",
            "__________________________________________________________________________________________________\n",
            "Layer (type)                    Output Shape         Param #     Connected to                     \n",
            "==================================================================================================\n",
            "input_7 (InputLayer)            [(None, None)]       0                                            \n",
            "__________________________________________________________________________________________________\n",
            "input_8 (InputLayer)            [(None, None)]       0                                            \n",
            "__________________________________________________________________________________________________\n",
            "embedding_6 (Embedding)         (None, None, 300)    20100       input_7[0][0]                    \n",
            "__________________________________________________________________________________________________\n",
            "embedding_7 (Embedding)         (None, None, 300)    25500       input_8[0][0]                    \n",
            "__________________________________________________________________________________________________\n",
            "lstm_6 (LSTM)                   [(None, 300), (None, 721200      embedding_6[0][0]                \n",
            "__________________________________________________________________________________________________\n",
            "lstm_7 (LSTM)                   [(None, None, 300),  721200      embedding_7[0][0]                \n",
            "                                                                 lstm_6[0][1]                     \n",
            "                                                                 lstm_6[0][2]                     \n",
            "__________________________________________________________________________________________________\n",
            "dense_3 (Dense)                 (None, None, 85)     25585       lstm_7[0][0]                     \n",
            "==================================================================================================\n",
            "Total params: 1,513,585\n",
            "Trainable params: 1,513,585\n",
            "Non-trainable params: 0\n",
            "__________________________________________________________________________________________________\n"
          ],
          "name": "stdout"
        }
      ]
    },
    {
      "cell_type": "code",
      "metadata": {
        "id": "MoidcuYdGW9J"
      },
      "source": [
        "train_samples = len(X_train)\n",
        "val_samples = len(X_test)\n",
        "batch_size = 2\n",
        "epochs = 4"
      ],
      "execution_count": 54,
      "outputs": []
    },
    {
      "cell_type": "code",
      "metadata": {
        "colab": {
          "base_uri": "https://localhost:8080/"
        },
        "id": "fQ4ETxPNGYmf",
        "outputId": "0f6396bb-c3f9-4ad4-ab0b-6a9c320dc479"
      },
      "source": [
        "history = model.fit_generator(generator = generate_batch(X_train, y_train, batch_size = batch_size),\n",
        "                    steps_per_epoch = train_samples//batch_size,\n",
        "                    epochs=epochs,\n",
        "                    validation_data = generate_batch(X_test, y_test, batch_size = batch_size),\n",
        "                    validation_steps = val_samples//batch_size)"
      ],
      "execution_count": 57,
      "outputs": [
        {
          "output_type": "stream",
          "text": [
            "Epoch 1/4\n",
            "23/24 [===========================>..] - ETA: 0s - loss: 1.7946Epoch 1/4\n",
            "24/24 [==============================] - 4s 177ms/step - loss: 1.7681 - val_loss: 1.5448\n",
            "Epoch 2/4\n",
            "23/24 [===========================>..] - ETA: 0s - loss: 1.4794Epoch 1/4\n",
            "24/24 [==============================] - 1s 39ms/step - loss: 1.4614 - val_loss: 1.4553\n",
            "Epoch 3/4\n",
            "23/24 [===========================>..] - ETA: 0s - loss: 1.2715Epoch 1/4\n",
            "24/24 [==============================] - 1s 39ms/step - loss: 1.2574 - val_loss: 1.3811\n",
            "Epoch 4/4\n",
            "23/24 [===========================>..] - ETA: 0s - loss: 1.0844Epoch 1/4\n",
            "24/24 [==============================] - 1s 40ms/step - loss: 1.0746 - val_loss: 1.1663\n"
          ],
          "name": "stdout"
        }
      ]
    },
    {
      "cell_type": "code",
      "metadata": {
        "id": "NfAlj64yGaMk",
        "colab": {
          "base_uri": "https://localhost:8080/",
          "height": 299
        },
        "outputId": "58d3de70-8c36-4641-af72-e95709486e26"
      },
      "source": [
        "import matplotlib.pyplot as plt \n",
        "\n",
        "plt.plot(history.history['loss'], c=\"m\")\n",
        "plt.plot(history.history['val_loss'], c=\"y\")\n",
        "plt.legend([\"train_loss\", \"validation_loss\"])\n",
        "plt.title(\"MODEL\")\n",
        "plt.xlabel(\"no of epochs\", fontsize=14)\n",
        "plt.ylabel(\"model_loss\", fontsize=14)\n",
        "plt.show()"
      ],
      "execution_count": 58,
      "outputs": [
        {
          "output_type": "display_data",
          "data": {
            "image/png": "[encoded data removed]",
            "text/plain": [
              "<Figure size 432x288 with 1 Axes>"
            ]
          },
          "metadata": {
            "tags": [],
            "needs_background": "light"
          }
        }
      ]
    },
    {
      "cell_type": "code",
      "metadata": {
        "id": "QoeIgy0HGb3g"
      },
      "source": [
        "# Encode input sequence to get the \"thought vectors\"\n",
        "encoder_model = Model(encoder_inputs, encoder_states)\n",
        "\n",
        "# Decoder setup\n",
        "# Below tensors will hold the states of the previous time step\n",
        "decoder_state_input_h = Input(shape=(latent_dim,))\n",
        "decoder_state_input_c = Input(shape=(latent_dim,))\n",
        "decoder_states_inputs = [decoder_state_input_h, decoder_state_input_c]\n",
        "\n",
        "dec_emb2= dec_emb_layer(decoder_inputs) # Get the embeddings of the decoder sequence\n",
        "\n",
        "# To predict the next word in the sequence, set the initial states to the states from the previous time step\n",
        "decoder_outputs2, state_h2, state_c2 = decoder_lstm(dec_emb2, initial_state=decoder_states_inputs)\n",
        "decoder_states2 = [state_h2, state_c2]\n",
        "decoder_outputs2 = decoder_dense(decoder_outputs2) # A dense softmax layer to generate prob dist. over the target vocabulary\n",
        "\n",
        "# Final decoder model\n",
        "decoder_model = Model(\n",
        "    [decoder_inputs] + decoder_states_inputs,\n",
        "    [decoder_outputs2] + decoder_states2)"
      ],
      "execution_count": 59,
      "outputs": []
    },
    {
      "cell_type": "code",
      "metadata": {
        "id": "mJ1adhaTGfU2"
      },
      "source": [
        "def decode_sequence(input_seq):\n",
        "    # Encode the input as state vectors.\n",
        "    states_value = encoder_model.predict(input_seq)\n",
        "    # Generate empty target sequence of length 1.\n",
        "    target_seq = np.zeros((1,1))\n",
        "    # Populate the first character of target sequence with the start character.\n",
        "    target_seq[0, 0] = target_token_index['START_']\n",
        "\n",
        "    # Sampling loop for a batch of sequences\n",
        "    # (to simplify, here we assume a batch of size 1).\n",
        "    stop_condition = False\n",
        "    decoded_sentence = ''\n",
        "    while not stop_condition:\n",
        "        output_tokens, h, c = decoder_model.predict([target_seq] + states_value)\n",
        "\n",
        "        # Sample a token\n",
        "        sampled_token_index = np.argmax(output_tokens[0, -1, :])\n",
        "        sampled_char = reverse_target_char_index[sampled_token_index]\n",
        "        decoded_sentence += ' '+sampled_char\n",
        "\n",
        "        # Exit condition: either hit max length\n",
        "        # or find stop character.\n",
        "        if (sampled_char == '_END' or\n",
        "           len(decoded_sentence) > 50):\n",
        "            stop_condition = True\n",
        "\n",
        "        # Update the target sequence (of length 1).\n",
        "        target_seq = np.zeros((1,1))\n",
        "        target_seq[0, 0] = sampled_token_index\n",
        "\n",
        "        # Update states\n",
        "        states_value = [h, c]\n",
        "\n",
        "    return decoded_sentence"
      ],
      "execution_count": 60,
      "outputs": []
    },
    {
      "cell_type": "code",
      "metadata": {
        "id": "mwLwp7zUGjnS"
      },
      "source": [
        "model.save(\"model.h5\")"
      ],
      "execution_count": 61,
      "outputs": []
    },
    {
      "cell_type": "code",
      "metadata": {
        "id": "Ptk5w0Q9Gm44"
      },
      "source": [
        "test_gen = generate_batch(X_test, y_test, batch_size = 1)\n",
        "k=-1"
      ],
      "execution_count": 64,
      "outputs": []
    },
    {
      "cell_type": "code",
      "metadata": {
        "colab": {
          "base_uri": "https://localhost:8080/"
        },
        "id": "9Y0zcZ44GlPD",
        "outputId": "6737ea88-d3ef-4642-dc6a-a606765e68f3"
      },
      "source": [
        "while k<5:\n",
        "    k+=1\n",
        "    (input_seq, actual_output), _ = next(test_gen)\n",
        "    decoded_sentence = decode_sequence(input_seq)\n",
        "    print('input pseudocode:', X_test[k:k+1].values[0])\n",
        "    print('actual c code:', y_test[k:k+1].values[0][6:-4])\n",
        "    print('predicted c code:', decoded_sentence[:-4])\n",
        "    print()\n"
      ],
      "execution_count": 65,
      "outputs": [
        {
          "output_type": "stream",
          "text": [
            "input pseudocode: read num3\n",
            "actual c code:  scanf \"%d\", &num3  \n",
            "predicted c code:  scanf \"%d\", \n",
            "\n",
            "input pseudocode: result = radius * radius * 22 / 7\n",
            "actual c code:  result = radius * radius * 22 / 7  \n",
            "predicted c code:  result = * * * * * \n",
            "\n",
            "input pseudocode: print result\n",
            "actual c code:  printf \"%d\\n\", result  \n",
            "predicted c code:  printf \"enter \n",
            "\n",
            "input pseudocode: print enter third number\n",
            "actual c code:  print \"enter third number\"  \n",
            "predicted c code:  printf \"enter \"enter \n",
            "\n",
            "input pseudocode: else\n",
            "actual c code:  else \n",
            "predicted c code:  printf \"enter \n",
            "\n",
            "input pseudocode: print result\n",
            "actual c code:  printf \"%d\\n\", result  \n",
            "predicted c code:  printf \"enter \n",
            "\n"
          ],
          "name": "stdout"
        }
      ]
    }
  ]
}