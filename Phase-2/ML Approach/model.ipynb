{
  "nbformat": 4,
  "nbformat_minor": 0,
  "metadata": {
    "colab": {
      "name": "pseudocode2c.ipynb",
      "provenance": [],
      "collapsed_sections": []
    },
    "kernelspec": {
      "name": "python3",
      "display_name": "Python 3"
    },
    "language_info": {
      "name": "python"
    },
    "accelerator": "GPU"
  },
  "cells": [
    {
      "cell_type": "code",
      "metadata": {
        "colab": {
          "base_uri": "https://localhost:8080/"
        },
        "id": "ymaVMN9VFvks",
        "outputId": "4ff073d4-baf7-4bec-b201-ad7634b0211d"
      },
      "source": [
        "from google.colab import drive\n",
        "drive.mount('/content/drive')"
      ],
      "execution_count": 4,
      "outputs": [
        {
          "output_type": "stream",
          "text": [
            "Mounted at /content/drive\n"
          ],
          "name": "stdout"
        }
      ]
    },
    {
      "cell_type": "code",
      "metadata": {
        "id": "E7Mt5xY8Fx48",
        "colab": {
          "base_uri": "https://localhost:8080/"
        },
        "outputId": "ab9bbdf3-0931-4727-d5b4-7bcc68dd9355"
      },
      "source": [
        "%tensorflow_version 1.x\n",
        "import tensorflow as tf \n",
        "tf.__version__\n",
        "import numpy as np\n",
        "import pandas as pd\n",
        "import os\n",
        "import string\n",
        "from string import digits\n",
        "import matplotlib.pyplot as plt\n",
        "# %matplotlib inline\n",
        "import re\n",
        "from sklearn.utils import shuffle\n",
        "from sklearn.model_selection import train_test_split\n",
        "from tensorflow.keras.layers import Input, LSTM, Embedding, Dense\n",
        "from tensorflow.keras.models import Model"
      ],
      "execution_count": 1,
      "outputs": [
        {
          "output_type": "stream",
          "text": [
            "TensorFlow 1.x selected.\n"
          ],
          "name": "stdout"
        }
      ]
    },
    {
      "cell_type": "code",
      "metadata": {
        "colab": {
          "base_uri": "https://localhost:8080/"
        },
        "id": "QQP-x0L3F6aT",
        "outputId": "3f407d03-c25c-4184-8870-cdbb4e1f9388"
      },
      "source": [
        "# LOADING DATA \n",
        "data_path = \"drive/MyDrive/Dataset/spoc-train.tsv\"\n",
        "def read_data(data_path):\n",
        "    data = pd.read_csv(data_path, sep=\"\\t\")\n",
        "    # data.head()\n",
        "    return data \n",
        "\n",
        "data = read_data(data_path)\n",
        "data.shape\n"
      ],
      "execution_count": 5,
      "outputs": [
        {
          "output_type": "execute_result",
          "data": {
            "text/plain": [
              "(293854, 7)"
            ]
          },
          "metadata": {
            "tags": []
          },
          "execution_count": 5
        }
      ]
    },
    {
      "cell_type": "code",
      "metadata": {
        "colab": {
          "base_uri": "https://localhost:8080/"
        },
        "id": "i6Xnrw5cF9cI",
        "outputId": "a7d49cd9-fe0d-4dd8-b48a-d342d813da59"
      },
      "source": [
        "# PREPROCESSING\n",
        "def preprocess_data(data, sampleCount):\n",
        "    # dropping unnecessary columns \n",
        "    data = data.drop(['workerid', 'probid', 'subid', 'line', 'indent'], axis=1)\n",
        "\n",
        "    # dropping rows with NaN values \n",
        "    countNaN = pd.isnull(data).sum()\n",
        "    print(\"Rows with NaN values: \", countNaN)\n",
        "    df = data.dropna(axis=0, how=\"any\")\n",
        "    # df.head()\n",
        "    lines = df\n",
        "    print(\"Rows without NaN values: \", lines.shape)\n",
        "\n",
        "    # picking random sample of length \n",
        "    lines=lines.sample(n=sampleCount,random_state=42)\n",
        "\n",
        "    # lowercasing all characters\n",
        "    lines['text']=lines['text'].apply(lambda x: x.lower())\n",
        "    lines['code']=lines['code'].apply(lambda x: x.lower())\n",
        "\n",
        "    # removing extra spaces\n",
        "    lines['text']=lines['text'].apply(lambda x: x.strip())\n",
        "    lines['code']=lines['code'].apply(lambda x: x.strip())\n",
        "    \n",
        "    # removing semicolon\n",
        "    lines['text']=lines['text'].apply(lambda x: re.sub(\";\", \" \", x))\n",
        "    lines['code']=lines['code'].apply(lambda x: re.sub(\";\", \" \", x))\n",
        "\n",
        "    # removing brackets \n",
        "    lines['text']=lines['text'].apply(lambda x: re.sub(\"[\\[({})\\]]\", \" \", x))\n",
        "    lines['code']=lines['code'].apply(lambda x: re.sub(\"[\\[({})\\]]\", \" \", x))\n",
        "\n",
        "    lines['text']=lines['text'].apply(lambda x: re.sub(\" +\", \" \", x))\n",
        "    lines['code']=lines['code'].apply(lambda x: re.sub(\" +\", \" \", x))\n",
        "\n",
        "    # adding start and end tokens to target sequences\n",
        "    lines['code'] = lines['code'].apply(lambda x : 'START_ '+ x + ' _END')\n",
        "\n",
        "\n",
        "    # fetching all the distinct words in text and code columns \n",
        "    text_words = set()\n",
        "    for text_word in lines['text']:\n",
        "        for word in text_word.split():\n",
        "            if word not in text_words:\n",
        "                text_words.add(word)\n",
        "        \n",
        "    code_words = set()\n",
        "    for code_word in lines['code']:\n",
        "        for word in code_word.split():\n",
        "            if word not in code_words:\n",
        "                code_words.add(word)\n",
        "\n",
        "    lines['text_length']=lines['text'].apply(lambda x:len(x.split(\" \")))\n",
        "    lines['code_length']=lines['code'].apply(lambda x:len(x.split(\" \")))\n",
        "\n",
        "    # lines[lines['text_length']<=20].shape, lines[lines['code_length']<=20].shape\n",
        "\n",
        "    # clipping to 20 length\n",
        "    lines=lines[lines['text_length']<=20]\n",
        "    lines=lines[lines['code_length']<=20]\n",
        "\n",
        "    print(\"maximum length of codes \",max(lines['code_length']))\n",
        "    print(\"maximum length of texts \",max(lines['text_length']))\n",
        "\n",
        "    max_length_src=max(lines['text_length'])\n",
        "    max_length_tar=max(lines['code_length'])\n",
        "\n",
        "    input_words = sorted(list(text_words))\n",
        "    target_words = sorted(list(code_words))\n",
        "    num_encoder_tokens = len(text_words)\n",
        "    num_decoder_tokens = len(code_words)\n",
        "    num_encoder_tokens, num_decoder_tokens\n",
        "\n",
        "    num_decoder_tokens += 1 #for zero padding\n",
        "\n",
        "    # indexing all the tokens for all the codes and texts \n",
        "    input_token_index = dict([(word, i+1) for i, word in enumerate(input_words)])\n",
        "    target_token_index = dict([(word, i+1) for i, word in enumerate(target_words)])\n",
        "\n",
        "    lines = shuffle(lines)\n",
        "    lines.head(10)\n",
        "\n",
        "    return lines, max_length_src, max_length_tar, input_token_index, target_token_index, num_encoder_tokens, num_decoder_tokens\n",
        "\n",
        "lines, max_length_src, max_length_tar, input_token_index, target_token_index, num_encoder_tokens, num_decoder_tokens = preprocess_data(data, 75000)"
      ],
      "execution_count": 6,
      "outputs": [
        {
          "output_type": "stream",
          "text": [
            "Rows with NaN values:  text    77629\n",
            "code        0\n",
            "dtype: int64\n",
            "Rows without NaN values:  (216225, 2)\n",
            "maximum length of codes  20\n",
            "maximum length of texts  20\n"
          ],
          "name": "stdout"
        }
      ]
    },
    {
      "cell_type": "code",
      "metadata": {
        "id": "FL41YoC8GBj-"
      },
      "source": [
        "reverse_input_char_index = dict((i, word) for word, i in input_token_index.items())\n",
        "reverse_target_char_index = dict((i, word) for word, i in target_token_index.items())"
      ],
      "execution_count": 7,
      "outputs": []
    },
    {
      "cell_type": "code",
      "metadata": {
        "colab": {
          "base_uri": "https://localhost:8080/"
        },
        "id": "ZAsIefm7GHZ1",
        "outputId": "21def926-3b20-41ee-fb70-eeedaa1bde03"
      },
      "source": [
        "# Splitting into training and test set  \n",
        "X, y = lines['text'], lines['code']\n",
        "X_train, X_test, y_train, y_test = train_test_split(X, y, test_size = 0.2,random_state=42)\n",
        "print(\"shape of train and test \", X_train.shape, X_test.shape)"
      ],
      "execution_count": 8,
      "outputs": [
        {
          "output_type": "stream",
          "text": [
            "shape of train and test  (58676,) (14670,)\n"
          ],
          "name": "stdout"
        }
      ]
    },
    {
      "cell_type": "code",
      "metadata": {
        "id": "BIHThvoxGJvy"
      },
      "source": [
        "def generate_batch(X = X_train, y = y_train, batch_size = 2):\n",
        "    ''' Generate a batch of data '''\n",
        "    while True:\n",
        "        for j in range(0, len(X), batch_size):\n",
        "            # one hot encoding \n",
        "            encoder_input_data = np.zeros((batch_size, max_length_src),dtype='float32')\n",
        "            decoder_input_data = np.zeros((batch_size, max_length_tar),dtype='float32')\n",
        "            decoder_target_data = np.zeros((batch_size, max_length_tar, num_decoder_tokens),dtype='float32')\n",
        "            for i, (input_text, target_text) in enumerate(zip(X[j:j+batch_size], y[j:j+batch_size])):\n",
        "                for t, word in enumerate(input_text.split()):\n",
        "                    encoder_input_data[i, t] = input_token_index[word] \n",
        "                for t, word in enumerate(target_text.split()):\n",
        "                    if t<len(target_text.split())-1:\n",
        "                        decoder_input_data[i, t] = target_token_index[word] \n",
        "                    if t>0:\n",
        "                        # print(\"decoder_target_data[\",i,t-1,target_token_index[word],\"]\")\n",
        "                        decoder_target_data[i, t - 1, target_token_index[word]] = 1.\n",
        "            yield([encoder_input_data, decoder_input_data], decoder_target_data)        # yielding one hot encoded data\n"
      ],
      "execution_count": 9,
      "outputs": []
    },
    {
      "cell_type": "code",
      "metadata": {
        "id": "6_xFZ56pGL8s"
      },
      "source": [
        "latent_dim=256"
      ],
      "execution_count": 10,
      "outputs": []
    },
    {
      "cell_type": "code",
      "metadata": {
        "id": "pNlKkjPNGNWz",
        "colab": {
          "base_uri": "https://localhost:8080/"
        },
        "outputId": "948549d1-9d4d-4a56-a198-120f3c213855"
      },
      "source": [
        "# Encoder\n",
        "encoder_inputs = Input(shape=(None,))\n",
        "enc_emb =  Embedding(num_encoder_tokens, latent_dim, mask_zero = True)(encoder_inputs)\n",
        "\n",
        "encoder_lstm = LSTM(latent_dim, return_state=True)      \n",
        "# return_state is set to True so that the last layer of encoder returns the output to the first layer of decoder  \n",
        "\n",
        "encoder_outputs, state_h, state_c = encoder_lstm(enc_emb)\n",
        "encoder_states = [state_h, state_c]     # hidden state and cell state\n"
      ],
      "execution_count": 11,
      "outputs": [
        {
          "output_type": "stream",
          "text": [
            "WARNING:tensorflow:From /tensorflow-1.15.2/python3.7/tensorflow_core/python/keras/initializers.py:119: calling RandomUniform.__init__ (from tensorflow.python.ops.init_ops) with dtype is deprecated and will be removed in a future version.\n",
            "Instructions for updating:\n",
            "Call initializer instance with the dtype argument instead of passing it to the constructor\n",
            "WARNING:tensorflow:From /tensorflow-1.15.2/python3.7/tensorflow_core/python/ops/resource_variable_ops.py:1630: calling BaseResourceVariable.__init__ (from tensorflow.python.ops.resource_variable_ops) with constraint is deprecated and will be removed in a future version.\n",
            "Instructions for updating:\n",
            "If using Keras pass *_constraint arguments to layers.\n",
            "WARNING:tensorflow:From /tensorflow-1.15.2/python3.7/tensorflow_core/python/keras/backend.py:3994: where (from tensorflow.python.ops.array_ops) is deprecated and will be removed in a future version.\n",
            "Instructions for updating:\n",
            "Use tf.where in 2.0, which has the same broadcast rule as np.where\n"
          ],
          "name": "stdout"
        }
      ]
    },
    {
      "cell_type": "code",
      "metadata": {
        "id": "Shw7eA7aGPvd"
      },
      "source": [
        "# Decoder\n",
        "decoder_inputs = Input(shape=(None,))\n",
        "dec_emb_layer = Embedding(num_decoder_tokens, latent_dim, mask_zero = True)\n",
        "dec_emb = dec_emb_layer(decoder_inputs)\n",
        "\n",
        "decoder_lstm = LSTM(latent_dim, return_sequences=True, return_state=True)\n",
        "# return_sequences and return_states are kept true so that the output of decoder states are captured \n",
        "\n",
        "decoder_outputs, _, _ = decoder_lstm(dec_emb, initial_state=encoder_states)\n",
        "decoder_dense = Dense(num_decoder_tokens, activation='softmax')\n",
        "decoder_outputs = decoder_dense(decoder_outputs)\n",
        "\n",
        "model = Model([encoder_inputs, decoder_inputs], decoder_outputs)"
      ],
      "execution_count": 12,
      "outputs": []
    },
    {
      "cell_type": "code",
      "metadata": {
        "id": "ufB3UjG8GSYp"
      },
      "source": [
        "model.compile(optimizer='rmsprop', loss='categorical_crossentropy')"
      ],
      "execution_count": 13,
      "outputs": []
    },
    {
      "cell_type": "code",
      "metadata": {
        "colab": {
          "base_uri": "https://localhost:8080/"
        },
        "id": "ZsQ2hh_XGUwP",
        "outputId": "78f11985-cbff-449b-d40a-145f3ef85563"
      },
      "source": [
        "model.summary()"
      ],
      "execution_count": 14,
      "outputs": [
        {
          "output_type": "stream",
          "text": [
            "Model: \"model\"\n",
            "__________________________________________________________________________________________________\n",
            "Layer (type)                    Output Shape         Param #     Connected to                     \n",
            "==================================================================================================\n",
            "input_1 (InputLayer)            [(None, None)]       0                                            \n",
            "__________________________________________________________________________________________________\n",
            "input_2 (InputLayer)            [(None, None)]       0                                            \n",
            "__________________________________________________________________________________________________\n",
            "embedding (Embedding)           (None, None, 256)    2407424     input_1[0][0]                    \n",
            "__________________________________________________________________________________________________\n",
            "embedding_1 (Embedding)         (None, None, 256)    1963008     input_2[0][0]                    \n",
            "__________________________________________________________________________________________________\n",
            "lstm (LSTM)                     [(None, 256), (None, 525312      embedding[0][0]                  \n",
            "__________________________________________________________________________________________________\n",
            "lstm_1 (LSTM)                   [(None, None, 256),  525312      embedding_1[0][0]                \n",
            "                                                                 lstm[0][1]                       \n",
            "                                                                 lstm[0][2]                       \n",
            "__________________________________________________________________________________________________\n",
            "dense (Dense)                   (None, None, 7668)   1970676     lstm_1[0][0]                     \n",
            "==================================================================================================\n",
            "Total params: 7,391,732\n",
            "Trainable params: 7,391,732\n",
            "Non-trainable params: 0\n",
            "__________________________________________________________________________________________________\n"
          ],
          "name": "stdout"
        }
      ]
    },
    {
      "cell_type": "code",
      "metadata": {
        "id": "MoidcuYdGW9J"
      },
      "source": [
        "train_samples = len(X_train)\n",
        "val_samples = len(X_test)\n",
        "batch_size = 256\n",
        "epochs = 50"
      ],
      "execution_count": 15,
      "outputs": []
    },
    {
      "cell_type": "code",
      "metadata": {
        "colab": {
          "base_uri": "https://localhost:8080/"
        },
        "id": "fQ4ETxPNGYmf",
        "outputId": "29f231f8-f855-4434-c2b6-f9db31ecce97"
      },
      "source": [
        "history = model.fit_generator(generator = generate_batch(X_train, y_train, batch_size = batch_size),\n",
        "                    steps_per_epoch = train_samples//batch_size,\n",
        "                    epochs=epochs)\n"
      ],
      "execution_count": 16,
      "outputs": [
        {
          "output_type": "stream",
          "text": [
            "Epoch 1/50\n",
            "229/229 [==============================] - 83s 362ms/step - loss: 1.1763\n",
            "Epoch 2/50\n",
            "229/229 [==============================] - 68s 298ms/step - loss: 0.7033\n",
            "Epoch 3/50\n",
            "229/229 [==============================] - 69s 301ms/step - loss: 0.5463\n",
            "Epoch 4/50\n",
            "229/229 [==============================] - 69s 303ms/step - loss: 0.4516\n",
            "Epoch 5/50\n",
            "229/229 [==============================] - 69s 301ms/step - loss: 0.3849\n",
            "Epoch 6/50\n",
            "229/229 [==============================] - 69s 300ms/step - loss: 0.3359\n",
            "Epoch 7/50\n",
            "229/229 [==============================] - 69s 301ms/step - loss: 0.2975\n",
            "Epoch 8/50\n",
            "229/229 [==============================] - 69s 300ms/step - loss: 0.2665\n",
            "Epoch 9/50\n",
            "229/229 [==============================] - 69s 302ms/step - loss: 0.2410\n",
            "Epoch 10/50\n",
            "229/229 [==============================] - 69s 302ms/step - loss: 0.2194\n",
            "Epoch 11/50\n",
            "229/229 [==============================] - 69s 302ms/step - loss: 0.2009\n",
            "Epoch 12/50\n",
            "229/229 [==============================] - 69s 303ms/step - loss: 0.1845\n",
            "Epoch 13/50\n",
            "229/229 [==============================] - 69s 302ms/step - loss: 0.1704\n",
            "Epoch 14/50\n",
            "229/229 [==============================] - 69s 302ms/step - loss: 0.1580\n",
            "Epoch 15/50\n",
            "229/229 [==============================] - 69s 300ms/step - loss: 0.1466\n",
            "Epoch 16/50\n",
            "229/229 [==============================] - 69s 300ms/step - loss: 0.1368\n",
            "Epoch 17/50\n",
            "229/229 [==============================] - 69s 301ms/step - loss: 0.1279\n",
            "Epoch 18/50\n",
            "229/229 [==============================] - 69s 301ms/step - loss: 0.1199\n",
            "Epoch 19/50\n",
            "229/229 [==============================] - 69s 302ms/step - loss: 0.1129\n",
            "Epoch 20/50\n",
            "229/229 [==============================] - 69s 303ms/step - loss: 0.1066\n",
            "Epoch 21/50\n",
            "229/229 [==============================] - 69s 303ms/step - loss: 0.1012\n",
            "Epoch 22/50\n",
            "229/229 [==============================] - 69s 303ms/step - loss: 0.0963\n",
            "Epoch 23/50\n",
            "229/229 [==============================] - 69s 303ms/step - loss: 0.0915\n",
            "Epoch 24/50\n",
            "229/229 [==============================] - 69s 303ms/step - loss: 0.0876\n",
            "Epoch 25/50\n",
            "229/229 [==============================] - 69s 302ms/step - loss: 0.0840\n",
            "Epoch 26/50\n",
            "229/229 [==============================] - 69s 302ms/step - loss: 0.0801\n",
            "Epoch 27/50\n",
            "229/229 [==============================] - 70s 304ms/step - loss: 0.0769\n",
            "Epoch 28/50\n",
            "229/229 [==============================] - 69s 303ms/step - loss: 0.0739\n",
            "Epoch 29/50\n",
            "229/229 [==============================] - 69s 303ms/step - loss: 0.0710\n",
            "Epoch 30/50\n",
            "229/229 [==============================] - 69s 303ms/step - loss: 0.0682\n",
            "Epoch 31/50\n",
            "229/229 [==============================] - 69s 303ms/step - loss: 0.0654\n",
            "Epoch 32/50\n",
            "229/229 [==============================] - 69s 303ms/step - loss: 0.0631\n",
            "Epoch 33/50\n",
            "229/229 [==============================] - 69s 302ms/step - loss: 0.0610\n",
            "Epoch 34/50\n",
            "229/229 [==============================] - 69s 301ms/step - loss: 0.0590\n",
            "Epoch 35/50\n",
            "229/229 [==============================] - 69s 301ms/step - loss: 0.0569\n",
            "Epoch 36/50\n",
            "229/229 [==============================] - 69s 302ms/step - loss: 0.0550\n",
            "Epoch 37/50\n",
            "229/229 [==============================] - 69s 303ms/step - loss: 0.0534\n",
            "Epoch 38/50\n",
            "229/229 [==============================] - 69s 302ms/step - loss: 0.0519\n",
            "Epoch 39/50\n",
            "229/229 [==============================] - 69s 303ms/step - loss: 0.0501\n",
            "Epoch 40/50\n",
            "229/229 [==============================] - 69s 302ms/step - loss: 0.0485\n",
            "Epoch 41/50\n",
            "229/229 [==============================] - 69s 302ms/step - loss: 0.0468\n",
            "Epoch 42/50\n",
            "229/229 [==============================] - 70s 304ms/step - loss: 0.0457\n",
            "Epoch 43/50\n",
            "229/229 [==============================] - 69s 302ms/step - loss: 0.0444\n",
            "Epoch 44/50\n",
            "229/229 [==============================] - 69s 302ms/step - loss: 0.0432\n",
            "Epoch 45/50\n",
            "229/229 [==============================] - 69s 302ms/step - loss: 0.0419\n",
            "Epoch 46/50\n",
            "229/229 [==============================] - 69s 302ms/step - loss: 0.0408\n",
            "Epoch 47/50\n",
            "229/229 [==============================] - 69s 302ms/step - loss: 0.0398\n",
            "Epoch 48/50\n",
            "229/229 [==============================] - 69s 301ms/step - loss: 0.0388\n",
            "Epoch 49/50\n",
            "229/229 [==============================] - 69s 302ms/step - loss: 0.0378\n",
            "Epoch 50/50\n",
            "229/229 [==============================] - 69s 302ms/step - loss: 0.0370\n"
          ],
          "name": "stdout"
        }
      ]
    },
    {
      "cell_type": "code",
      "metadata": {
        "id": "QoeIgy0HGb3g"
      },
      "source": [
        "# Encode input sequence to get the \"thought vectors\"\n",
        "encoder_model = Model(encoder_inputs, encoder_states)\n",
        "\n",
        "# Decoder setup\n",
        "# Below tensors will hold the states of the previous time step\n",
        "decoder_state_input_h = Input(shape=(latent_dim,))\n",
        "decoder_state_input_c = Input(shape=(latent_dim,))\n",
        "decoder_states_inputs = [decoder_state_input_h, decoder_state_input_c]\n",
        "\n",
        "dec_emb2= dec_emb_layer(decoder_inputs) # Get the embeddings of the decoder sequence\n",
        "\n",
        "# To predict the next word in the sequence, set the initial states to the states from the previous time step\n",
        "decoder_outputs2, state_h2, state_c2 = decoder_lstm(dec_emb2, initial_state=decoder_states_inputs)\n",
        "decoder_states2 = [state_h2, state_c2]\n",
        "decoder_outputs2 = decoder_dense(decoder_outputs2) # A dense softmax layer to generate prob dist. over the target vocabulary\n",
        "\n",
        "# Final decoder model\n",
        "decoder_model = Model(\n",
        "    [decoder_inputs] + decoder_states_inputs,\n",
        "    [decoder_outputs2] + decoder_states2)"
      ],
      "execution_count": 17,
      "outputs": []
    },
    {
      "cell_type": "code",
      "metadata": {
        "id": "mJ1adhaTGfU2"
      },
      "source": [
        "def decode_sequence(input_seq):\n",
        "    # Encode the input as state vectors.\n",
        "    states_value = encoder_model.predict(input_seq)\n",
        "    # Generate empty target sequence of length 1.\n",
        "    target_seq = np.zeros((1,1))\n",
        "    # Populate the first character of target sequence with the start character.\n",
        "    target_seq[0, 0] = target_token_index['START_']\n",
        "\n",
        "    # Sampling loop for a batch of sequences\n",
        "    # (to simplify, here we assume a batch of size 1).\n",
        "    stop_condition = False\n",
        "    decoded_sentence = ''\n",
        "    while not stop_condition:\n",
        "        output_tokens, h, c = decoder_model.predict([target_seq] + states_value)\n",
        "\n",
        "        # Sample a token\n",
        "        sampled_token_index = np.argmax(output_tokens[0, -1, :])\n",
        "        sampled_char = reverse_target_char_index[sampled_token_index]\n",
        "        decoded_sentence += ' '+sampled_char\n",
        "\n",
        "        # Exit condition: either hit max length\n",
        "        # or find stop character.\n",
        "        if (sampled_char == '_END' or\n",
        "           len(decoded_sentence) > 50):\n",
        "            stop_condition = True\n",
        "\n",
        "        # Update the target sequence (of length 1).\n",
        "        target_seq = np.zeros((1,1))\n",
        "        target_seq[0, 0] = sampled_token_index\n",
        "\n",
        "        # Update states\n",
        "        states_value = [h, c]\n",
        "\n",
        "    return decoded_sentence"
      ],
      "execution_count": 18,
      "outputs": []
    },
    {
      "cell_type": "code",
      "metadata": {
        "id": "mwLwp7zUGjnS"
      },
      "source": [
        "model.save(\"model.h5\")"
      ],
      "execution_count": 19,
      "outputs": []
    },
    {
      "cell_type": "code",
      "metadata": {
        "id": "QGWIiQX3fz5M"
      },
      "source": [
        "! cp model.h5 drive/MyDrive/Dataset/latestmodel.h5"
      ],
      "execution_count": 20,
      "outputs": []
    },
    {
      "cell_type": "code",
      "metadata": {
        "id": "zNc9HTuF38Vh"
      },
      "source": [
        "correct = 0\n",
        "total = 10000"
      ],
      "execution_count": 24,
      "outputs": []
    },
    {
      "cell_type": "code",
      "metadata": {
        "id": "Ptk5w0Q9Gm44"
      },
      "source": [
        "test_gen = generate_batch(X_test, y_test, batch_size = 1)\n",
        "k=-1"
      ],
      "execution_count": 25,
      "outputs": []
    },
    {
      "cell_type": "code",
      "metadata": {
        "colab": {
          "base_uri": "https://localhost:8080/"
        },
        "id": "9Y0zcZ44GlPD",
        "outputId": "098ad61f-07c8-4595-e3de-4da623ac5ea8"
      },
      "source": [
        "while k<10000:\n",
        "    k+=1\n",
        "    (input_seq, actual_output), _ = next(test_gen)\n",
        "    decoded_sentence = decode_sequence(input_seq)\n",
        "    if k<100:\n",
        "      print('input pseudocode:', X_test[k:k+1].values[0])\n",
        "      print('actual c code:', y_test[k:k+1].values[0][6:-4])\n",
        "      print('predicted c code:', decoded_sentence[:-4])\n",
        "      print()\n",
        "    if (y_test[k:k+1].values[0][6:-4].replace(\" \",\"\") == decoded_sentence[:-4].replace(\" \", \"\")):\n",
        "      correct+=1"
      ],
      "execution_count": 26,
      "outputs": [
        {
          "output_type": "stream",
          "text": [
            "input pseudocode: n = integer\n",
            "actual c code:  int n  \n",
            "predicted c code:  int n \n",
            "\n",
            "input pseudocode: divide m by 10\n",
            "actual c code:  m /= 10  \n",
            "predicted c code:  m /= 10 \n",
            "\n",
            "input pseudocode: create int arrays dis and sup of length 1200\n",
            "actual c code:  int dis 1200 , sup 1200  \n",
            "predicted c code:  int dis l n \n",
            "\n",
            "input pseudocode: declare int variables n and m\n",
            "actual c code:  int n, m  \n",
            "predicted c code:  int n, m \n",
            "\n",
            "input pseudocode: n,m,k=int\n",
            "actual c code:  int n, m, k  \n",
            "predicted c code:  \n",
            "\n",
            "input pseudocode: for i = 0 to n exclusive\n",
            "actual c code:  for int i = 0 i < n i++  \n",
            "predicted c code:  for int i = 0 i < n i++ \n",
            "\n",
            "input pseudocode: set p i to -1\n",
            "actual c code:  p i -= 2  \n",
            "predicted c code:  p i = -1 \n",
            "\n",
            "input pseudocode: create long long integer ans with ans = am / p\n",
            "actual c code:  long long int ans = am / p  \n",
            "predicted c code:  long long ans = / r \n",
            "\n",
            "input pseudocode: create integer variable c\n",
            "actual c code:  int c  \n",
            "predicted c code:  int c \n",
            "\n",
            "input pseudocode: read a then b then c\n",
            "actual c code:  cin >> a >> b >> c  \n",
            "predicted c code:  cin >> a >> b >> c \n",
            "\n",
            "input pseudocode: if strings a and c are equal\n",
            "actual c code:  if strcmp a, c == 0  \n",
            "predicted c code:  if a == 't' && a < c \n",
            "\n",
            "input pseudocode: change value to k / 2\n",
            "actual c code:  value = k / 2  \n",
            "predicted c code:  k = t / 2 \n",
            "\n",
            "input pseudocode: print b + c print newline\n",
            "actual c code:  cout << b + c << endl  \n",
            "predicted c code:  cout << b + c << endl \n",
            "\n",
            "input pseudocode: create int n\n",
            "actual c code:  int n  \n",
            "predicted c code:  int n \n",
            "\n",
            "input pseudocode: push key into v\n",
            "actual c code:  v.push_back key  \n",
            "predicted c code:  v.push_back x \n",
            "\n",
            "input pseudocode: go to the start of the loop\n",
            "actual c code:  continue  \n",
            "predicted c code:  continue \n",
            "\n",
            "input pseudocode: add p i to i\n",
            "actual c code:  i += p i  \n",
            "predicted c code:  p i = sum i + x \n",
            "\n",
            "input pseudocode: for i from 0 to n - k exclusive, increase s by a i \n",
            "actual c code:  for i = 0 i < n - k i++ s += a i  \n",
            "predicted c code:  for int i = 0 i < n - k i++ s += a i \n",
            "\n",
            "input pseudocode: for i=0 to n exclusive\n",
            "actual c code:  for int i = 0 i < n i++  \n",
            "predicted c code:  for int i = 0 i < n i++ \n",
            "\n",
            "input pseudocode: print yes and newline\n",
            "actual c code:  cout << \"yes\" << endl  \n",
            "predicted c code:  cout << \"yes\" << endl \n",
            "\n",
            "input pseudocode: n = long long integer\n",
            "actual c code:  long long int n  \n",
            "predicted c code:  long long int n \n",
            "\n",
            "input pseudocode: l, r = integers both with value of 0\n",
            "actual c code:  int l = 0, r = 0  \n",
            "predicted c code:  int l, r, r \n",
            "\n",
            "input pseudocode: create new constant double variable eps = 1e-9\n",
            "actual c code:  const double eps = 1e-9  \n",
            "predicted c code:  const double eps = 1e-9 \n",
            "\n",
            "input pseudocode: print #.\n",
            "actual c code:  cout << \"#.\"  \n",
            "predicted c code:  cout << \"#.\" \n",
            "\n",
            "input pseudocode: read n\n",
            "actual c code:  cin >> n  \n",
            "predicted c code:  cin >> n \n",
            "\n",
            "input pseudocode: print \"no\" followed by newline\n",
            "actual c code:  cout << \"no\" << endl  \n",
            "predicted c code:  cout << \"no\" << endl \n",
            "\n",
            "input pseudocode: for i = 0 to n exclusive , read ith element of r\n",
            "actual c code:  for int i = 0 i < n i++ cin >> r i  \n",
            "predicted c code:  for int i = 0 i < n i++ cin >> r i \n",
            "\n",
            "input pseudocode: create integer s = 0\n",
            "actual c code:  int s = 0  \n",
            "predicted c code:  int s = 0 \n",
            "\n",
            "input pseudocode: failed = boolean = 0\n",
            "actual c code:  bool failed = 0  \n",
            "predicted c code:  bool bool ans = 0 \n",
            "\n",
            "input pseudocode: decrement v 0 \n",
            "actual c code:  v 0 --  \n",
            "predicted c code:  v 0 -- \n",
            "\n",
            "input pseudocode: read s, num\n",
            "actual c code:  cin >> s >> num  \n",
            "predicted c code:  cin >> s >> num \n",
            "\n",
            "input pseudocode: declare integers ii and jj\n",
            "actual c code:  int ii, jj  \n",
            "predicted c code:  int 0, 30 \n",
            "\n",
            "input pseudocode: let a, b , c be integers\n",
            "actual c code:  int a, b, c  \n",
            "predicted c code:  int a, b, c \n",
            "\n",
            "input pseudocode: increment x\n",
            "actual c code:  x++  \n",
            "predicted c code:  x++ \n",
            "\n",
            "input pseudocode: read n\n",
            "actual c code:  cin >> n  \n",
            "predicted c code:  cin >> n \n",
            "\n",
            "input pseudocode: make ints lowercount = 0 and uppercount = 0\n",
            "actual c code:  int lowercount = 0, uppercount = 0  \n",
            "predicted c code:  int a, long long n, b, j = 0, -1 \n",
            "\n",
            "input pseudocode: skip the rest of the loop\n",
            "actual c code:  continue  \n",
            "predicted c code:  continue \n",
            "\n",
            "input pseudocode: create string s n \n",
            "actual c code:  string s n  \n",
            "predicted c code:  string s n \n",
            "\n",
            "input pseudocode: set ara w q to 1\n",
            "actual c code:  ara w q = 1  \n",
            "predicted c code:  ara w q = 1 \n",
            "\n",
            "input pseudocode: else\n",
            "actual c code:  else  \n",
            "predicted c code:  else \n",
            "\n",
            "input pseudocode: read n\n",
            "actual c code:  cin >> n  \n",
            "predicted c code:  cin >> n \n",
            "\n",
            "input pseudocode: for integer i = 0 to key exclusive, print *\n",
            "actual c code:  for int i = 0 i < key i++ cout << \"*\"  \n",
            "predicted c code:  for int i = 0 i < \"\\n\" i++ \n",
            "\n",
            "input pseudocode: len is integer with value = length of a\n",
            "actual c code:  int len = strlen a  \n",
            "predicted c code:  int len = strlen a \n",
            "\n",
            "input pseudocode: for i = 0 to n exclusive, set a i to new char m \n",
            "actual c code:  for int i = 0 i < n i++ a i = new char m  \n",
            "predicted c code:  for int i = 0 i < n i++ m i++ a i = '#' \n",
            "\n",
            "input pseudocode: read n\n",
            "actual c code:  cin >> n  \n",
            "predicted c code:  cin >> n \n",
            "\n",
            "input pseudocode: create int n\n",
            "actual c code:  int n  \n",
            "predicted c code:  int n \n",
            "\n",
            "input pseudocode: print \"0\" and newline\n",
            "actual c code:  cout << \"0\" << endl  \n",
            "predicted c code:  cout << \"0\" << endl \n",
            "\n",
            "input pseudocode: if r is less than l\n",
            "actual c code:  if r < l  \n",
            "predicted c code:  if r < l \n",
            "\n",
            "input pseudocode: declare integer variable ans = 100500\n",
            "actual c code:  int ans = 100500  \n",
            "predicted c code:  int ans = k, << endl \n",
            "\n",
            "input pseudocode: print distance and newline\n",
            "actual c code:  cout << distance << endl  \n",
            "predicted c code:  cout << \"-1\" << endl \n",
            "\n",
            "input pseudocode: in long long function inve that takes x = long long\n",
            "actual c code:  long long inve long long x  \n",
            "predicted c code:  long long pw long long \n",
            "\n",
            "input pseudocode: create vector v as a string\n",
            "actual c code:  vector<string> v  \n",
            "predicted c code:  vector<string> v \n",
            "\n",
            "input pseudocode: create boolean p with p = 0\n",
            "actual c code:  bool p = 0  \n",
            "predicted c code:  bool p = 0 \n",
            "\n",
            "input pseudocode: if it is not end of st, remove it from st\n",
            "actual c code:  if it != st.end st.erase it  \n",
            "predicted c code:  if it != / str.length \n",
            "\n",
            "input pseudocode: if a is equal to 0\n",
            "actual c code:  if a == 0  \n",
            "predicted c code:  if a == 0 \n",
            "\n",
            "input pseudocode: read s\n",
            "actual c code:  cin >> s  \n",
            "predicted c code:  cin >> s \n",
            "\n",
            "input pseudocode: if i is not equal to ans pos + 1 then do\n",
            "actual c code:  if i != ans pos + 1  \n",
            "predicted c code:  if i != pos + 1 \n",
            "\n",
            "input pseudocode: create integer ans = 0\n",
            "actual c code:  int ans = 0  \n",
            "predicted c code:  int ans = 0 \n",
            "\n",
            "input pseudocode: for i=0 to length of s\n",
            "actual c code:  for int i = 0 i < s.length i++  \n",
            "predicted c code:  for int i = 0 i < s.length i++ \n",
            "\n",
            "input pseudocode: increment c\n",
            "actual c code:  c++  \n",
            "predicted c code:  c++ \n",
            "\n",
            "input pseudocode: print in % 2\n",
            "actual c code:  cout << in % 2 << endl  \n",
            "predicted c code:  cout << in % 2 << endl \n",
            "\n",
            "input pseudocode: input m and k\n",
            "actual c code:  cin >> m >> k  \n",
            "predicted c code:  cin >> m >> k \n",
            "\n",
            "input pseudocode: set ans to max of a + b * c and ans\n",
            "actual c code:  ans = max a + b * c, ans  \n",
            "predicted c code:  ans = max a + b * c , ans \n",
            "\n",
            "input pseudocode: declare integers n, sum = 0, integer arrays arx size 105, ary size 105, arr size 10, arrx size 10\n",
            "actual c code:  int n, arx 105 , ary 105 , arr 10 , arrx 10 , sum = 0  \n",
            "predicted c code:  int n, a 10 , cout << \"yes\" 0 , it->second = p\n",
            "\n",
            "input pseudocode: read n and k\n",
            "actual c code:  cin >> n >> k  \n",
            "predicted c code:  cin >> n >> k \n",
            "\n",
            "input pseudocode: for i = 1 to t inclusive\n",
            "actual c code:  for int i = 1 i <= t i++  \n",
            "predicted c code:  for int i = 1 i <= t i++ \n",
            "\n",
            "input pseudocode: read input to x\n",
            "actual c code:  cin >> x  \n",
            "predicted c code:  cin >> x \n",
            "\n",
            "input pseudocode: for i = 0 to m - n - 1 exclusive\n",
            "actual c code:  for int i = 0 i < m - n - 1 i++  \n",
            "predicted c code:  for int i = 0 i < m - n - 1 i++ \n",
            "\n",
            "input pseudocode: gcd=a 0 \n",
            "actual c code:  gcd = a 0  \n",
            "predicted c code:  long long int 0 = 0 \n",
            "\n",
            "input pseudocode: increment c2\n",
            "actual c code:  c2++  \n",
            "predicted c code:  c2++ \n",
            "\n",
            "input pseudocode: let flag2 be 1\n",
            "actual c code:  flag2 = 1  \n",
            "predicted c code:  flag2 = 1 \n",
            "\n",
            "input pseudocode: increase a by one\n",
            "actual c code:  a++  \n",
            "predicted c code:  a++ \n",
            "\n",
            "input pseudocode: read a\n",
            "actual c code:  cin >> a  \n",
            "predicted c code:  cin >> a \n",
            "\n",
            "input pseudocode: create vector int b n \n",
            "actual c code:  vector<int> b n  \n",
            "predicted c code:  vector<int> b n \n",
            "\n",
            "input pseudocode: increment ans by one\n",
            "actual c code:  ans++  \n",
            "predicted c code:  ans++ \n",
            "\n",
            "input pseudocode: if sum less than a then\n",
            "actual c code:  if sum < a  \n",
            "predicted c code:  if sum < a \n",
            "\n",
            "input pseudocode: for i=0 to n exclusive\n",
            "actual c code:  for int i = 0 i < n i++  \n",
            "predicted c code:  for int i = 0 i < n i++ \n",
            "\n",
            "input pseudocode: break the loop\n",
            "actual c code:  break  \n",
            "predicted c code:  break \n",
            "\n",
            "input pseudocode: break\n",
            "actual c code:  break  \n",
            "predicted c code:  break \n",
            "\n",
            "input pseudocode: output yes\n",
            "actual c code:  cout << \"yes\" << endl  \n",
            "predicted c code:  cout << \"yes\" << endl \n",
            "\n",
            "input pseudocode: if is v j i then insert j into s\n",
            "actual c code:  if c == v j i s.insert j  \n",
            "predicted c code:  if v j == 0 || s i j \n",
            "\n",
            "input pseudocode: iif eevee x is flareon x and fla is 0\n",
            "actual c code:  if eevee x == flareon x && fla == 0  \n",
            "predicted c code:  x = max = x + 0, k, x \n",
            "\n",
            "input pseudocode: else\n",
            "actual c code:   else  \n",
            "predicted c code:  else \n",
            "\n",
            "input pseudocode: print danik and a new line\n",
            "actual c code:  cout << \"danik\" << endl  \n",
            "predicted c code:  cout << \"danik\" << endl \n",
            "\n",
            "input pseudocode: for = 0 to less than strlen s do the following\n",
            "actual c code:  for i = 0 i < strlen s i++  \n",
            "predicted c code:  for i = 0 i < strlen s i++ \n",
            "\n",
            "input pseudocode: read x and y\n",
            "actual c code:  cin >> x >> y  \n",
            "predicted c code:  cin >> x >> y \n",
            "\n",
            "input pseudocode: declare integer n\n",
            "actual c code:  int n  \n",
            "predicted c code:  int n \n",
            "\n",
            "input pseudocode: set b to b - ln\n",
            "actual c code:  b = b - ln  \n",
            "predicted c code:  b = b - 22 \n",
            "\n",
            "input pseudocode: for i = 0 to n exclusive, read a i \n",
            "actual c code:  for int i = 0 i < n i++ cin >> a i  \n",
            "predicted c code:  for int i = 0 i < n i++ cin >> a i \n",
            "\n",
            "input pseudocode: for i = 1 to p\n",
            "actual c code:  for int i = 1 i <= p i++  \n",
            "predicted c code:  for int i = 1 i <= p i++ \n",
            "\n",
            "input pseudocode: else\n",
            "actual c code:  else \n",
            "predicted c code:  else \n",
            "\n",
            "input pseudocode: else if a i + 1 j = 0\n",
            "actual c code:  else if a i + 1 j == 0  \n",
            "predicted c code:  else if a i + 1 j == 0 \n",
            "\n",
            "input pseudocode: declare character array c size 95\n",
            "actual c code:  char c 95  \n",
            "predicted c code:  char c i << \"\\n\" \n",
            "\n",
            "input pseudocode: n =integer\n",
            "actual c code:  int n  \n",
            "predicted c code:  long long int n \n",
            "\n",
            "input pseudocode: print diff1 and a new line\n",
            "actual c code:  cout << diff1 << endl  \n",
            "predicted c code:  cout << result << endl \n",
            "\n",
            "input pseudocode: read n\n",
            "actual c code:  cin >> n  \n",
            "predicted c code:  cin >> n \n",
            "\n",
            "input pseudocode: create integers a, b, c, d\n",
            "actual c code:  int a, b, c, d  \n",
            "predicted c code:  int a, b, c, d \n",
            "\n",
            "input pseudocode: n =int\n",
            "actual c code:  int n  \n",
            "predicted c code:  long long n \n",
            "\n",
            "input pseudocode: if x and y are both greater than 0 then do the following\n",
            "actual c code:  if x > 0 && y > 0  \n",
            "predicted c code:  if x > 0 && y > 0 \n",
            "\n",
            "input pseudocode: print -1 print newline\n",
            "actual c code:  cout << -1 << endl  \n",
            "predicted c code:  cout << -1 << endl \n",
            "\n"
          ],
          "name": "stdout"
        }
      ]
    },
    {
      "cell_type": "code",
      "metadata": {
        "colab": {
          "base_uri": "https://localhost:8080/"
        },
        "id": "y813AH9v50EQ",
        "outputId": "f6a7031e-a104-4308-f4f1-40311a6a804e"
      },
      "source": [
        "print(\"Correct predictions: \", correct)"
      ],
      "execution_count": 27,
      "outputs": [
        {
          "output_type": "stream",
          "text": [
            "Correct predictions:  6021\n"
          ],
          "name": "stdout"
        }
      ]
    },
    {
      "cell_type": "code",
      "metadata": {
        "colab": {
          "base_uri": "https://localhost:8080/"
        },
        "id": "HgfCCgKw7iHA",
        "outputId": "7d3adba8-f863-4c5e-8b2c-342bd389d349"
      },
      "source": [
        "print(\"Accuracy: \", correct/total)"
      ],
      "execution_count": 28,
      "outputs": [
        {
          "output_type": "stream",
          "text": [
            "Accuracy:  0.6021\n"
          ],
          "name": "stdout"
        }
      ]
    },
    {
      "cell_type": "code",
      "metadata": {
        "id": "jBGhhGP47tKD"
      },
      "source": [
        ""
      ],
      "execution_count": null,
      "outputs": []
    }
  ]
}