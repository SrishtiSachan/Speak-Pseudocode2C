{
  "nbformat": 4,
  "nbformat_minor": 0,
  "metadata": {
    "kernelspec": {
      "language": "python",
      "display_name": "Python 3",
      "name": "python3"
    },
    "language_info": {
      "name": "python",
      "version": "3.6.6",
      "mimetype": "text/x-python",
      "codemirror_mode": {
        "name": "ipython",
        "version": 3
      },
      "pygments_lexer": "ipython3",
      "nbconvert_exporter": "python",
      "file_extension": ".py"
    },
    "colab": {
      "name": "pseudocode2c_50epochs200000data_part.ipynb",
      "provenance": [],
      "collapsed_sections": []
    },
    "accelerator": "GPU"
  },
  "cells": [
    {
      "cell_type": "code",
      "metadata": {
        "colab": {
          "base_uri": "https://localhost:8080/"
        },
        "id": "WSoI8rPfPnFt",
        "outputId": "45e75166-f2e8-4efe-8632-a84d65aef6d7"
      },
      "source": [
        "from google.colab import drive\n",
        "drive.mount('/content/drive')"
      ],
      "execution_count": null,
      "outputs": [
        {
          "output_type": "stream",
          "text": [
            "Mounted at /content/drive\n"
          ],
          "name": "stdout"
        }
      ]
    },
    {
      "cell_type": "code",
      "metadata": {
        "_uuid": "8f2839f25d086af736a60e9eeb907d3b93b6e0e5",
        "_cell_guid": "b1076dfc-b9ad-4769-8c92-a6c4dae69d19",
        "execution": {
          "iopub.status.busy": "2021-06-18T07:59:36.428592Z",
          "iopub.execute_input": "2021-06-18T07:59:36.428870Z",
          "iopub.status.idle": "2021-06-18T07:59:38.325906Z",
          "shell.execute_reply.started": "2021-06-18T07:59:36.428808Z",
          "shell.execute_reply": "2021-06-18T07:59:38.325233Z"
        },
        "trusted": true,
        "id": "TD4YFYIdPbkQ"
      },
      "source": [
        "%tensorflow_version 1.x\n",
        "import tensorflow as tf \n",
        "tf.__version__\n",
        "import numpy as np\n",
        "import pandas as pd\n",
        "import os\n",
        "import string\n",
        "from string import digits\n",
        "import matplotlib.pyplot as plt\n",
        "%matplotlib inline\n",
        "import re\n",
        "from sklearn.utils import shuffle\n",
        "from sklearn.model_selection import train_test_split\n",
        "from tensorflow.keras.layers import Input, LSTM, Embedding, Dense\n",
        "from tensorflow.keras.models import Model"
      ],
      "execution_count": null,
      "outputs": []
    },
    {
      "cell_type": "code",
      "metadata": {
        "_cell_guid": "79c7e3d0-c299-4dcb-8224-4455121ee9b0",
        "_uuid": "d629ff2d2480ee46fbb7e2d37f6b5fab8052498a",
        "execution": {
          "iopub.status.busy": "2021-06-18T07:59:38.327215Z",
          "iopub.execute_input": "2021-06-18T07:59:38.327554Z",
          "iopub.status.idle": "2021-06-18T07:59:38.621776Z",
          "shell.execute_reply.started": "2021-06-18T07:59:38.327507Z",
          "shell.execute_reply": "2021-06-18T07:59:38.620954Z"
        },
        "trusted": true,
        "colab": {
          "base_uri": "https://localhost:8080/",
          "height": 206
        },
        "id": "ztfM7U5BPbkW",
        "outputId": "3339f278-737b-4163-c68c-2775dbfbb596"
      },
      "source": [
        "data_path = \"drive/MyDrive/dataset/spoc-train.tsv\"\n",
        "data = pd.read_csv(data_path, sep=\"\\t\")\n",
        "data.head()"
      ],
      "execution_count": null,
      "outputs": [
        {
          "output_type": "execute_result",
          "data": {
            "text/html": [
              "<div>\n",
              "<style scoped>\n",
              "    .dataframe tbody tr th:only-of-type {\n",
              "        vertical-align: middle;\n",
              "    }\n",
              "\n",
              "    .dataframe tbody tr th {\n",
              "        vertical-align: top;\n",
              "    }\n",
              "\n",
              "    .dataframe thead th {\n",
              "        text-align: right;\n",
              "    }\n",
              "</style>\n",
              "<table border=\"1\" class=\"dataframe\">\n",
              "  <thead>\n",
              "    <tr style=\"text-align: right;\">\n",
              "      <th></th>\n",
              "      <th>text</th>\n",
              "      <th>code</th>\n",
              "      <th>workerid</th>\n",
              "      <th>probid</th>\n",
              "      <th>subid</th>\n",
              "      <th>line</th>\n",
              "      <th>indent</th>\n",
              "    </tr>\n",
              "  </thead>\n",
              "  <tbody>\n",
              "    <tr>\n",
              "      <th>0</th>\n",
              "      <td>in the function gcd(a,b=integers)</td>\n",
              "      <td>int gcd(int a, int b) {</td>\n",
              "      <td>38</td>\n",
              "      <td>13A</td>\n",
              "      <td>41120785</td>\n",
              "      <td>0</td>\n",
              "      <td>0</td>\n",
              "    </tr>\n",
              "    <tr>\n",
              "      <th>1</th>\n",
              "      <td>if b=1 return a, else call function gcd(b, a%b)</td>\n",
              "      <td>return !b ? a : gcd(b, a % b);</td>\n",
              "      <td>38</td>\n",
              "      <td>13A</td>\n",
              "      <td>41120785</td>\n",
              "      <td>1</td>\n",
              "      <td>1</td>\n",
              "    </tr>\n",
              "    <tr>\n",
              "      <th>2</th>\n",
              "      <td>NaN</td>\n",
              "      <td>}</td>\n",
              "      <td>38</td>\n",
              "      <td>13A</td>\n",
              "      <td>41120785</td>\n",
              "      <td>2</td>\n",
              "      <td>0</td>\n",
              "    </tr>\n",
              "    <tr>\n",
              "      <th>3</th>\n",
              "      <td>NaN</td>\n",
              "      <td>int main() {</td>\n",
              "      <td>38</td>\n",
              "      <td>13A</td>\n",
              "      <td>41120785</td>\n",
              "      <td>3</td>\n",
              "      <td>0</td>\n",
              "    </tr>\n",
              "    <tr>\n",
              "      <th>4</th>\n",
              "      <td>n , nn, ans = integers with ans =0</td>\n",
              "      <td>int n, nn, ans = 0;</td>\n",
              "      <td>38</td>\n",
              "      <td>13A</td>\n",
              "      <td>41120785</td>\n",
              "      <td>4</td>\n",
              "      <td>1</td>\n",
              "    </tr>\n",
              "  </tbody>\n",
              "</table>\n",
              "</div>"
            ],
            "text/plain": [
              "                                              text  ... indent\n",
              "0                in the function gcd(a,b=integers)  ...      0\n",
              "1  if b=1 return a, else call function gcd(b, a%b)  ...      1\n",
              "2                                              NaN  ...      0\n",
              "3                                              NaN  ...      0\n",
              "4               n , nn, ans = integers with ans =0  ...      1\n",
              "\n",
              "[5 rows x 7 columns]"
            ]
          },
          "metadata": {
            "tags": []
          },
          "execution_count": 74
        }
      ]
    },
    {
      "cell_type": "code",
      "metadata": {
        "colab": {
          "base_uri": "https://localhost:8080/",
          "height": 206
        },
        "id": "AZNg35W5wqUe",
        "outputId": "b2defd02-d04c-4c98-cb12-b7f7af8d8dc5"
      },
      "source": [
        "data = data.drop(['workerid', 'probid', 'subid', 'line', 'indent'], axis=1)\n",
        "data.head()"
      ],
      "execution_count": null,
      "outputs": [
        {
          "output_type": "execute_result",
          "data": {
            "text/html": [
              "<div>\n",
              "<style scoped>\n",
              "    .dataframe tbody tr th:only-of-type {\n",
              "        vertical-align: middle;\n",
              "    }\n",
              "\n",
              "    .dataframe tbody tr th {\n",
              "        vertical-align: top;\n",
              "    }\n",
              "\n",
              "    .dataframe thead th {\n",
              "        text-align: right;\n",
              "    }\n",
              "</style>\n",
              "<table border=\"1\" class=\"dataframe\">\n",
              "  <thead>\n",
              "    <tr style=\"text-align: right;\">\n",
              "      <th></th>\n",
              "      <th>text</th>\n",
              "      <th>code</th>\n",
              "    </tr>\n",
              "  </thead>\n",
              "  <tbody>\n",
              "    <tr>\n",
              "      <th>0</th>\n",
              "      <td>in the function gcd(a,b=integers)</td>\n",
              "      <td>int gcd(int a, int b) {</td>\n",
              "    </tr>\n",
              "    <tr>\n",
              "      <th>1</th>\n",
              "      <td>if b=1 return a, else call function gcd(b, a%b)</td>\n",
              "      <td>return !b ? a : gcd(b, a % b);</td>\n",
              "    </tr>\n",
              "    <tr>\n",
              "      <th>2</th>\n",
              "      <td>NaN</td>\n",
              "      <td>}</td>\n",
              "    </tr>\n",
              "    <tr>\n",
              "      <th>3</th>\n",
              "      <td>NaN</td>\n",
              "      <td>int main() {</td>\n",
              "    </tr>\n",
              "    <tr>\n",
              "      <th>4</th>\n",
              "      <td>n , nn, ans = integers with ans =0</td>\n",
              "      <td>int n, nn, ans = 0;</td>\n",
              "    </tr>\n",
              "  </tbody>\n",
              "</table>\n",
              "</div>"
            ],
            "text/plain": [
              "                                              text                            code\n",
              "0                in the function gcd(a,b=integers)         int gcd(int a, int b) {\n",
              "1  if b=1 return a, else call function gcd(b, a%b)  return !b ? a : gcd(b, a % b);\n",
              "2                                              NaN                               }\n",
              "3                                              NaN                    int main() {\n",
              "4               n , nn, ans = integers with ans =0             int n, nn, ans = 0;"
            ]
          },
          "metadata": {
            "tags": []
          },
          "execution_count": 75
        }
      ]
    },
    {
      "cell_type": "code",
      "metadata": {
        "execution": {
          "iopub.status.busy": "2021-06-18T07:59:38.622870Z",
          "iopub.execute_input": "2021-06-18T07:59:38.623174Z",
          "iopub.status.idle": "2021-06-18T07:59:38.673634Z",
          "shell.execute_reply.started": "2021-06-18T07:59:38.623123Z",
          "shell.execute_reply": "2021-06-18T07:59:38.672828Z"
        },
        "trusted": true,
        "colab": {
          "base_uri": "https://localhost:8080/"
        },
        "id": "RtNay9gZPbkY",
        "outputId": "05b6bb00-037c-4a4c-8822-c4fbd7472e72"
      },
      "source": [
        "pd.isnull(data).sum()"
      ],
      "execution_count": null,
      "outputs": [
        {
          "output_type": "execute_result",
          "data": {
            "text/plain": [
              "text    77629\n",
              "code        0\n",
              "dtype: int64"
            ]
          },
          "metadata": {
            "tags": []
          },
          "execution_count": 76
        }
      ]
    },
    {
      "cell_type": "code",
      "metadata": {
        "execution": {
          "iopub.status.busy": "2021-06-18T07:59:38.675487Z",
          "iopub.execute_input": "2021-06-18T07:59:38.676031Z",
          "iopub.status.idle": "2021-06-18T07:59:38.737396Z",
          "shell.execute_reply.started": "2021-06-18T07:59:38.675738Z",
          "shell.execute_reply": "2021-06-18T07:59:38.736503Z"
        },
        "trusted": true,
        "id": "zKSWyitdPbkZ"
      },
      "source": [
        "# Dropping rows with NaN values \n",
        "df = data.dropna(axis=0, how=\"any\")\n",
        "df.head()\n",
        "lines = df "
      ],
      "execution_count": null,
      "outputs": []
    },
    {
      "cell_type": "code",
      "metadata": {
        "execution": {
          "iopub.status.busy": "2021-06-18T07:59:38.738784Z",
          "iopub.execute_input": "2021-06-18T07:59:38.739378Z",
          "iopub.status.idle": "2021-06-18T07:59:38.757815Z",
          "shell.execute_reply.started": "2021-06-18T07:59:38.739081Z",
          "shell.execute_reply": "2021-06-18T07:59:38.756961Z"
        },
        "trusted": true,
        "colab": {
          "base_uri": "https://localhost:8080/",
          "height": 677
        },
        "id": "2tCWsGhqPbka",
        "outputId": "3a12928d-aec1-43b9-d95e-9e3bf4336b2e"
      },
      "source": [
        "lines.head(20)"
      ],
      "execution_count": null,
      "outputs": [
        {
          "output_type": "execute_result",
          "data": {
            "text/html": [
              "<div>\n",
              "<style scoped>\n",
              "    .dataframe tbody tr th:only-of-type {\n",
              "        vertical-align: middle;\n",
              "    }\n",
              "\n",
              "    .dataframe tbody tr th {\n",
              "        vertical-align: top;\n",
              "    }\n",
              "\n",
              "    .dataframe thead th {\n",
              "        text-align: right;\n",
              "    }\n",
              "</style>\n",
              "<table border=\"1\" class=\"dataframe\">\n",
              "  <thead>\n",
              "    <tr style=\"text-align: right;\">\n",
              "      <th></th>\n",
              "      <th>text</th>\n",
              "      <th>code</th>\n",
              "    </tr>\n",
              "  </thead>\n",
              "  <tbody>\n",
              "    <tr>\n",
              "      <th>0</th>\n",
              "      <td>in the function gcd(a,b=integers)</td>\n",
              "      <td>int gcd(int a, int b) {</td>\n",
              "    </tr>\n",
              "    <tr>\n",
              "      <th>1</th>\n",
              "      <td>if b=1 return a, else call function gcd(b, a%b)</td>\n",
              "      <td>return !b ? a : gcd(b, a % b);</td>\n",
              "    </tr>\n",
              "    <tr>\n",
              "      <th>4</th>\n",
              "      <td>n , nn, ans = integers with ans =0</td>\n",
              "      <td>int n, nn, ans = 0;</td>\n",
              "    </tr>\n",
              "    <tr>\n",
              "      <th>5</th>\n",
              "      <td>Read n</td>\n",
              "      <td>cin &gt;&gt; n;</td>\n",
              "    </tr>\n",
              "    <tr>\n",
              "      <th>6</th>\n",
              "      <td>for i=2 to n-1 execute</td>\n",
              "      <td>for (int i = 2; i &lt;= n - 1; ++i) {</td>\n",
              "    </tr>\n",
              "    <tr>\n",
              "      <th>7</th>\n",
              "      <td>set nn to n</td>\n",
              "      <td>nn = n;</td>\n",
              "    </tr>\n",
              "    <tr>\n",
              "      <th>8</th>\n",
              "      <td>while nn is not equal to 0, set ans to ans + n...</td>\n",
              "      <td>while (nn) ans += nn % i, nn /= i;</td>\n",
              "    </tr>\n",
              "    <tr>\n",
              "      <th>10</th>\n",
              "      <td>set o to gcd(ans, n-2)</td>\n",
              "      <td>int o = gcd(ans, n - 2);</td>\n",
              "    </tr>\n",
              "    <tr>\n",
              "      <th>11</th>\n",
              "      <td>print out ans/o \"/\" (n-2)/o</td>\n",
              "      <td>cout &lt;&lt; ans / o &lt;&lt; \"/\" &lt;&lt; (n - 2) / o &lt;&lt; \"\\n\";</td>\n",
              "    </tr>\n",
              "    <tr>\n",
              "      <th>14</th>\n",
              "      <td>function gcd with integer arguments a and b</td>\n",
              "      <td>int gcd(int a, int b) {</td>\n",
              "    </tr>\n",
              "    <tr>\n",
              "      <th>15</th>\n",
              "      <td>return !b ? a : gcd(b, a % b)</td>\n",
              "      <td>return !b ? a : gcd(b, a % b);</td>\n",
              "    </tr>\n",
              "    <tr>\n",
              "      <th>18</th>\n",
              "      <td>integers n, nn and ans = 0</td>\n",
              "      <td>int n, nn, ans = 0;</td>\n",
              "    </tr>\n",
              "    <tr>\n",
              "      <th>19</th>\n",
              "      <td>read n</td>\n",
              "      <td>cin &gt;&gt; n;</td>\n",
              "    </tr>\n",
              "    <tr>\n",
              "      <th>20</th>\n",
              "      <td>for i = 2 to n - 1 inclusive</td>\n",
              "      <td>for (int i = 2; i &lt;= n - 1; ++i) {</td>\n",
              "    </tr>\n",
              "    <tr>\n",
              "      <th>21</th>\n",
              "      <td>set nn to n</td>\n",
              "      <td>nn = n;</td>\n",
              "    </tr>\n",
              "    <tr>\n",
              "      <th>22</th>\n",
              "      <td>while nn increment ans by (nn % i) and set nn ...</td>\n",
              "      <td>while (nn) ans += nn % i, nn /= i;</td>\n",
              "    </tr>\n",
              "    <tr>\n",
              "      <th>24</th>\n",
              "      <td>integer o = gcd of ans and n - 2</td>\n",
              "      <td>int o = gcd(ans, n - 2);</td>\n",
              "    </tr>\n",
              "    <tr>\n",
              "      <th>25</th>\n",
              "      <td>print ans / o, \"/\", (n - 2) / o and \"\\n\"</td>\n",
              "      <td>cout &lt;&lt; ans / o &lt;&lt; \"/\" &lt;&lt; (n - 2) / o &lt;&lt; \"\\n\";</td>\n",
              "    </tr>\n",
              "    <tr>\n",
              "      <th>29</th>\n",
              "      <td>let a and b be strings</td>\n",
              "      <td>string a, b;</td>\n",
              "    </tr>\n",
              "    <tr>\n",
              "      <th>30</th>\n",
              "      <td>n = integer</td>\n",
              "      <td>int n;</td>\n",
              "    </tr>\n",
              "  </tbody>\n",
              "</table>\n",
              "</div>"
            ],
            "text/plain": [
              "                                                 text                                            code\n",
              "0                   in the function gcd(a,b=integers)                         int gcd(int a, int b) {\n",
              "1     if b=1 return a, else call function gcd(b, a%b)                  return !b ? a : gcd(b, a % b);\n",
              "4                  n , nn, ans = integers with ans =0                             int n, nn, ans = 0;\n",
              "5                                              Read n                                       cin >> n;\n",
              "6                              for i=2 to n-1 execute              for (int i = 2; i <= n - 1; ++i) {\n",
              "7                                         set nn to n                                         nn = n;\n",
              "8   while nn is not equal to 0, set ans to ans + n...              while (nn) ans += nn % i, nn /= i;\n",
              "10                             set o to gcd(ans, n-2)                        int o = gcd(ans, n - 2);\n",
              "11                        print out ans/o \"/\" (n-2)/o  cout << ans / o << \"/\" << (n - 2) / o << \"\\n\";\n",
              "14        function gcd with integer arguments a and b                         int gcd(int a, int b) {\n",
              "15                      return !b ? a : gcd(b, a % b)                  return !b ? a : gcd(b, a % b);\n",
              "18                         integers n, nn and ans = 0                             int n, nn, ans = 0;\n",
              "19                                             read n                                       cin >> n;\n",
              "20                       for i = 2 to n - 1 inclusive              for (int i = 2; i <= n - 1; ++i) {\n",
              "21                                        set nn to n                                         nn = n;\n",
              "22  while nn increment ans by (nn % i) and set nn ...              while (nn) ans += nn % i, nn /= i;\n",
              "24                   integer o = gcd of ans and n - 2                        int o = gcd(ans, n - 2);\n",
              "25           print ans / o, \"/\", (n - 2) / o and \"\\n\"  cout << ans / o << \"/\" << (n - 2) / o << \"\\n\";\n",
              "29                             let a and b be strings                                    string a, b;\n",
              "30                                        n = integer                                          int n;"
            ]
          },
          "metadata": {
            "tags": []
          },
          "execution_count": 78
        }
      ]
    },
    {
      "cell_type": "code",
      "metadata": {
        "execution": {
          "iopub.status.busy": "2021-06-18T07:59:38.759753Z",
          "iopub.execute_input": "2021-06-18T07:59:38.760258Z",
          "iopub.status.idle": "2021-06-18T07:59:38.770106Z",
          "shell.execute_reply.started": "2021-06-18T07:59:38.760014Z",
          "shell.execute_reply": "2021-06-18T07:59:38.769396Z"
        },
        "trusted": true,
        "colab": {
          "base_uri": "https://localhost:8080/"
        },
        "id": "-taNbw4cPbka",
        "outputId": "88c3ef04-f807-4e0e-c61c-c8e0fa8fcf31"
      },
      "source": [
        "lines.shape"
      ],
      "execution_count": null,
      "outputs": [
        {
          "output_type": "execute_result",
          "data": {
            "text/plain": [
              "(216225, 2)"
            ]
          },
          "metadata": {
            "tags": []
          },
          "execution_count": 79
        }
      ]
    },
    {
      "cell_type": "code",
      "metadata": {
        "execution": {
          "iopub.status.busy": "2021-06-18T07:59:41.913946Z",
          "iopub.execute_input": "2021-06-18T07:59:41.914263Z",
          "iopub.status.idle": "2021-06-18T07:59:41.934141Z",
          "shell.execute_reply.started": "2021-06-18T07:59:41.914205Z",
          "shell.execute_reply": "2021-06-18T07:59:41.933353Z"
        },
        "trusted": true,
        "colab": {
          "base_uri": "https://localhost:8080/"
        },
        "id": "uzoQRyUHPbkb",
        "outputId": "dcacf0c2-37bc-4f17-b697-9353ebff0dcd"
      },
      "source": [
        "# Picking random sample of length \n",
        "lines=lines.sample(n=200000,random_state=42)\n",
        "lines.shape"
      ],
      "execution_count": null,
      "outputs": [
        {
          "output_type": "execute_result",
          "data": {
            "text/plain": [
              "(200000, 2)"
            ]
          },
          "metadata": {
            "tags": []
          },
          "execution_count": 80
        }
      ]
    },
    {
      "cell_type": "code",
      "metadata": {
        "execution": {
          "iopub.status.busy": "2021-06-18T07:59:42.201601Z",
          "iopub.execute_input": "2021-06-18T07:59:42.201867Z",
          "iopub.status.idle": "2021-06-18T07:59:42.254632Z",
          "shell.execute_reply.started": "2021-06-18T07:59:42.201813Z",
          "shell.execute_reply": "2021-06-18T07:59:42.253800Z"
        },
        "trusted": true,
        "id": "5_TG_L2oPbkc"
      },
      "source": [
        "# Lowercase all characters\n",
        "lines['text']=lines['text'].apply(lambda x: x.lower())\n",
        "lines['code']=lines['code'].apply(lambda x: x.lower())"
      ],
      "execution_count": null,
      "outputs": []
    },
    {
      "cell_type": "code",
      "metadata": {
        "execution": {
          "iopub.status.busy": "2021-06-18T07:59:42.568113Z",
          "iopub.execute_input": "2021-06-18T07:59:42.568816Z",
          "iopub.status.idle": "2021-06-18T07:59:43.182373Z",
          "shell.execute_reply.started": "2021-06-18T07:59:42.568421Z",
          "shell.execute_reply": "2021-06-18T07:59:43.181439Z"
        },
        "trusted": true,
        "id": "RKx8DCe0Pbkc"
      },
      "source": [
        "# Remove extra spaces\n",
        "lines['text']=lines['text'].apply(lambda x: x.strip())\n",
        "lines['code']=lines['code'].apply(lambda x: x.strip())\n",
        "# Remove semicolon\n",
        "lines['text']=lines['text'].apply(lambda x: re.sub(\";\", \" \", x))\n",
        "lines['code']=lines['code'].apply(lambda x: re.sub(\";\", \" \", x))\n",
        "\n",
        "# Remove brackets \n",
        "lines['text']=lines['text'].apply(lambda x: re.sub(\"[\\[({})\\]]\", \" \", x))\n",
        "lines['code']=lines['code'].apply(lambda x: re.sub(\"[\\[({})\\]]\", \" \", x))\n",
        "\n",
        "lines['text']=lines['text'].apply(lambda x: re.sub(\" +\", \" \", x))\n",
        "lines['code']=lines['code'].apply(lambda x: re.sub(\" +\", \" \", x))"
      ],
      "execution_count": null,
      "outputs": []
    },
    {
      "cell_type": "code",
      "metadata": {
        "execution": {
          "iopub.status.busy": "2021-06-18T07:59:43.183623Z",
          "iopub.execute_input": "2021-06-18T07:59:43.183922Z",
          "iopub.status.idle": "2021-06-18T07:59:43.213043Z",
          "shell.execute_reply.started": "2021-06-18T07:59:43.183875Z",
          "shell.execute_reply": "2021-06-18T07:59:43.211611Z"
        },
        "trusted": true,
        "id": "MBFUuSFxPbke"
      },
      "source": [
        "# Add start and end tokens to target sequences\n",
        "lines['code'] = lines['code'].apply(lambda x : 'START_ '+ x + ' _END')"
      ],
      "execution_count": null,
      "outputs": []
    },
    {
      "cell_type": "code",
      "metadata": {
        "execution": {
          "iopub.status.busy": "2021-06-18T07:59:43.214397Z",
          "iopub.execute_input": "2021-06-18T07:59:43.214702Z",
          "iopub.status.idle": "2021-06-18T07:59:43.232032Z",
          "shell.execute_reply.started": "2021-06-18T07:59:43.214646Z",
          "shell.execute_reply": "2021-06-18T07:59:43.231228Z"
        },
        "trusted": true,
        "colab": {
          "base_uri": "https://localhost:8080/",
          "height": 206
        },
        "id": "JVapKPNVPbke",
        "outputId": "c6cd7f25-2446-4a18-f8e9-8804be15f8e8"
      },
      "source": [
        "lines.head()"
      ],
      "execution_count": null,
      "outputs": [
        {
          "output_type": "execute_result",
          "data": {
            "text/html": [
              "<div>\n",
              "<style scoped>\n",
              "    .dataframe tbody tr th:only-of-type {\n",
              "        vertical-align: middle;\n",
              "    }\n",
              "\n",
              "    .dataframe tbody tr th {\n",
              "        vertical-align: top;\n",
              "    }\n",
              "\n",
              "    .dataframe thead th {\n",
              "        text-align: right;\n",
              "    }\n",
              "</style>\n",
              "<table border=\"1\" class=\"dataframe\">\n",
              "  <thead>\n",
              "    <tr style=\"text-align: right;\">\n",
              "      <th></th>\n",
              "      <th>text</th>\n",
              "      <th>code</th>\n",
              "    </tr>\n",
              "  </thead>\n",
              "  <tbody>\n",
              "    <tr>\n",
              "      <th>142886</th>\n",
              "      <td>else</td>\n",
              "      <td>START_  else  _END</td>\n",
              "    </tr>\n",
              "    <tr>\n",
              "      <th>35020</th>\n",
              "      <td>create long longs a and b</td>\n",
              "      <td>START_ long long a, b  _END</td>\n",
              "    </tr>\n",
              "    <tr>\n",
              "      <th>285204</th>\n",
              "      <td>increment ans by n / 10</td>\n",
              "      <td>START_ ans += n / 10  _END</td>\n",
              "    </tr>\n",
              "    <tr>\n",
              "      <th>173121</th>\n",
              "      <td>change s to s + f2 - f1</td>\n",
              "      <td>START_ s = s + f2 - f1  _END</td>\n",
              "    </tr>\n",
              "    <tr>\n",
              "      <th>46965</th>\n",
              "      <td>t= in array of length 50</td>\n",
              "      <td>START_ int t 50  _END</td>\n",
              "    </tr>\n",
              "  </tbody>\n",
              "</table>\n",
              "</div>"
            ],
            "text/plain": [
              "                             text                          code\n",
              "142886                       else            START_  else  _END\n",
              "35020   create long longs a and b   START_ long long a, b  _END\n",
              "285204    increment ans by n / 10    START_ ans += n / 10  _END\n",
              "173121    change s to s + f2 - f1  START_ s = s + f2 - f1  _END\n",
              "46965    t= in array of length 50         START_ int t 50  _END"
            ]
          },
          "metadata": {
            "tags": []
          },
          "execution_count": 84
        }
      ]
    },
    {
      "cell_type": "code",
      "metadata": {
        "execution": {
          "iopub.status.busy": "2021-06-18T07:59:43.285247Z",
          "iopub.execute_input": "2021-06-18T07:59:43.285478Z",
          "iopub.status.idle": "2021-06-18T07:59:43.433555Z",
          "shell.execute_reply.started": "2021-06-18T07:59:43.285435Z",
          "shell.execute_reply": "2021-06-18T07:59:43.432904Z"
        },
        "trusted": true,
        "id": "5Vxtlc4rPbkf"
      },
      "source": [
        "# Fetching all the distinct words in text and code columns \n",
        "text_words = set()\n",
        "for text_word in lines['text']:\n",
        "    for word in text_word.split():\n",
        "        if word not in text_words:\n",
        "            text_words.add(word)\n",
        "    \n",
        "code_words = set()\n",
        "for code_word in lines['code']:\n",
        "    for word in code_word.split():\n",
        "        if word not in code_words:\n",
        "            code_words.add(word)"
      ],
      "execution_count": null,
      "outputs": []
    },
    {
      "cell_type": "code",
      "metadata": {
        "execution": {
          "iopub.status.busy": "2021-06-18T07:59:43.649052Z",
          "iopub.execute_input": "2021-06-18T07:59:43.649339Z",
          "iopub.status.idle": "2021-06-18T07:59:43.658178Z",
          "shell.execute_reply.started": "2021-06-18T07:59:43.649292Z",
          "shell.execute_reply": "2021-06-18T07:59:43.657287Z"
        },
        "trusted": true,
        "colab": {
          "base_uri": "https://localhost:8080/"
        },
        "id": "728fTgf5Pbkf",
        "outputId": "5d9301cc-dcf1-4336-94bd-ceaffe009a41"
      },
      "source": [
        "len(text_words), len(code_words)"
      ],
      "execution_count": null,
      "outputs": [
        {
          "output_type": "execute_result",
          "data": {
            "text/plain": [
              "(14819, 11160)"
            ]
          },
          "metadata": {
            "tags": []
          },
          "execution_count": 86
        }
      ]
    },
    {
      "cell_type": "code",
      "metadata": {
        "execution": {
          "iopub.status.busy": "2021-06-18T07:59:44.044447Z",
          "iopub.execute_input": "2021-06-18T07:59:44.044725Z",
          "iopub.status.idle": "2021-06-18T07:59:44.162345Z",
          "shell.execute_reply.started": "2021-06-18T07:59:44.044673Z",
          "shell.execute_reply": "2021-06-18T07:59:44.161612Z"
        },
        "trusted": true,
        "id": "IjmLsXELPbkg"
      },
      "source": [
        "lines['text_length']=lines['text'].apply(lambda x:len(x.split(\" \")))\n",
        "lines['code_length']=lines['code'].apply(lambda x:len(x.split(\" \")))"
      ],
      "execution_count": null,
      "outputs": []
    },
    {
      "cell_type": "code",
      "metadata": {
        "execution": {
          "iopub.status.busy": "2021-06-18T07:59:44.497620Z",
          "iopub.execute_input": "2021-06-18T07:59:44.497916Z",
          "iopub.status.idle": "2021-06-18T07:59:44.517589Z",
          "shell.execute_reply.started": "2021-06-18T07:59:44.497861Z",
          "shell.execute_reply": "2021-06-18T07:59:44.516573Z"
        },
        "trusted": true,
        "colab": {
          "base_uri": "https://localhost:8080/",
          "height": 206
        },
        "id": "H6kZe0t8Pbkg",
        "outputId": "2115cb42-16e2-4f3c-ce04-19ca6dd2902a"
      },
      "source": [
        "lines.head()"
      ],
      "execution_count": null,
      "outputs": [
        {
          "output_type": "execute_result",
          "data": {
            "text/html": [
              "<div>\n",
              "<style scoped>\n",
              "    .dataframe tbody tr th:only-of-type {\n",
              "        vertical-align: middle;\n",
              "    }\n",
              "\n",
              "    .dataframe tbody tr th {\n",
              "        vertical-align: top;\n",
              "    }\n",
              "\n",
              "    .dataframe thead th {\n",
              "        text-align: right;\n",
              "    }\n",
              "</style>\n",
              "<table border=\"1\" class=\"dataframe\">\n",
              "  <thead>\n",
              "    <tr style=\"text-align: right;\">\n",
              "      <th></th>\n",
              "      <th>text</th>\n",
              "      <th>code</th>\n",
              "      <th>text_length</th>\n",
              "      <th>code_length</th>\n",
              "    </tr>\n",
              "  </thead>\n",
              "  <tbody>\n",
              "    <tr>\n",
              "      <th>142886</th>\n",
              "      <td>else</td>\n",
              "      <td>START_  else  _END</td>\n",
              "      <td>1</td>\n",
              "      <td>5</td>\n",
              "    </tr>\n",
              "    <tr>\n",
              "      <th>35020</th>\n",
              "      <td>create long longs a and b</td>\n",
              "      <td>START_ long long a, b  _END</td>\n",
              "      <td>6</td>\n",
              "      <td>7</td>\n",
              "    </tr>\n",
              "    <tr>\n",
              "      <th>285204</th>\n",
              "      <td>increment ans by n / 10</td>\n",
              "      <td>START_ ans += n / 10  _END</td>\n",
              "      <td>6</td>\n",
              "      <td>8</td>\n",
              "    </tr>\n",
              "    <tr>\n",
              "      <th>173121</th>\n",
              "      <td>change s to s + f2 - f1</td>\n",
              "      <td>START_ s = s + f2 - f1  _END</td>\n",
              "      <td>8</td>\n",
              "      <td>10</td>\n",
              "    </tr>\n",
              "    <tr>\n",
              "      <th>46965</th>\n",
              "      <td>t= in array of length 50</td>\n",
              "      <td>START_ int t 50  _END</td>\n",
              "      <td>6</td>\n",
              "      <td>6</td>\n",
              "    </tr>\n",
              "  </tbody>\n",
              "</table>\n",
              "</div>"
            ],
            "text/plain": [
              "                             text  ... code_length\n",
              "142886                       else  ...           5\n",
              "35020   create long longs a and b  ...           7\n",
              "285204    increment ans by n / 10  ...           8\n",
              "173121    change s to s + f2 - f1  ...          10\n",
              "46965    t= in array of length 50  ...           6\n",
              "\n",
              "[5 rows x 4 columns]"
            ]
          },
          "metadata": {
            "tags": []
          },
          "execution_count": 88
        }
      ]
    },
    {
      "cell_type": "code",
      "metadata": {
        "execution": {
          "iopub.status.busy": "2021-06-18T07:59:44.709427Z",
          "iopub.execute_input": "2021-06-18T07:59:44.709662Z",
          "iopub.status.idle": "2021-06-18T07:59:44.724673Z",
          "shell.execute_reply.started": "2021-06-18T07:59:44.709615Z",
          "shell.execute_reply": "2021-06-18T07:59:44.723867Z"
        },
        "trusted": true,
        "colab": {
          "base_uri": "https://localhost:8080/"
        },
        "id": "D_t-wuHxPbkg",
        "outputId": "d82869f2-d098-4ceb-d480-ec82142aa01a"
      },
      "source": [
        "lines[lines['text_length']<=20].shape, lines[lines['code_length']<=20].shape"
      ],
      "execution_count": null,
      "outputs": [
        {
          "output_type": "execute_result",
          "data": {
            "text/plain": [
              "((196971, 4), (196806, 4))"
            ]
          },
          "metadata": {
            "tags": []
          },
          "execution_count": 89
        }
      ]
    },
    {
      "cell_type": "code",
      "metadata": {
        "execution": {
          "iopub.status.busy": "2021-06-18T07:59:45.066380Z",
          "iopub.execute_input": "2021-06-18T07:59:45.066642Z",
          "iopub.status.idle": "2021-06-18T07:59:45.081190Z",
          "shell.execute_reply.started": "2021-06-18T07:59:45.066593Z",
          "shell.execute_reply": "2021-06-18T07:59:45.080184Z"
        },
        "trusted": true,
        "id": "qAp7Trr9Pbkg"
      },
      "source": [
        "lines=lines[lines['text_length']<=20]\n",
        "lines=lines[lines['code_length']<=20]"
      ],
      "execution_count": null,
      "outputs": []
    },
    {
      "cell_type": "code",
      "metadata": {
        "execution": {
          "iopub.status.busy": "2021-06-18T07:59:45.232454Z",
          "iopub.execute_input": "2021-06-18T07:59:45.232706Z",
          "iopub.status.idle": "2021-06-18T07:59:45.237782Z",
          "shell.execute_reply.started": "2021-06-18T07:59:45.232656Z",
          "shell.execute_reply": "2021-06-18T07:59:45.236416Z"
        },
        "trusted": true,
        "colab": {
          "base_uri": "https://localhost:8080/"
        },
        "id": "tfamJxFLPbkh",
        "outputId": "28f0a0fe-e39f-4993-8d2c-08dbf7feec5d"
      },
      "source": [
        "lines.shape"
      ],
      "execution_count": null,
      "outputs": [
        {
          "output_type": "execute_result",
          "data": {
            "text/plain": [
              "(195631, 4)"
            ]
          },
          "metadata": {
            "tags": []
          },
          "execution_count": 91
        }
      ]
    },
    {
      "cell_type": "code",
      "metadata": {
        "execution": {
          "iopub.status.busy": "2021-06-18T07:59:45.452564Z",
          "iopub.execute_input": "2021-06-18T07:59:45.452810Z",
          "iopub.status.idle": "2021-06-18T07:59:45.463867Z",
          "shell.execute_reply.started": "2021-06-18T07:59:45.452754Z",
          "shell.execute_reply": "2021-06-18T07:59:45.463211Z"
        },
        "trusted": true,
        "colab": {
          "base_uri": "https://localhost:8080/"
        },
        "id": "HyrgeuT-Pbki",
        "outputId": "0dfcee08-ec45-422c-a54d-1f6c30a41d8a"
      },
      "source": [
        "print(\"maximum length of codes \",max(lines['code_length']))\n",
        "print(\"maximum length of texts \",max(lines['text_length']))"
      ],
      "execution_count": null,
      "outputs": [
        {
          "output_type": "stream",
          "text": [
            "maximum length of codes  20\n",
            "maximum length of texts  20\n"
          ],
          "name": "stdout"
        }
      ]
    },
    {
      "cell_type": "code",
      "metadata": {
        "execution": {
          "iopub.status.busy": "2021-06-18T07:59:45.799985Z",
          "iopub.execute_input": "2021-06-18T07:59:45.800272Z",
          "iopub.status.idle": "2021-06-18T07:59:45.808372Z",
          "shell.execute_reply.started": "2021-06-18T07:59:45.800212Z",
          "shell.execute_reply": "2021-06-18T07:59:45.807408Z"
        },
        "trusted": true,
        "id": "vC1oKexCPbki"
      },
      "source": [
        "max_length_src=max(lines['text_length'])\n",
        "max_length_tar=max(lines['code_length'])"
      ],
      "execution_count": null,
      "outputs": []
    },
    {
      "cell_type": "code",
      "metadata": {
        "execution": {
          "iopub.status.busy": "2021-06-18T07:59:45.969262Z",
          "iopub.execute_input": "2021-06-18T07:59:45.969539Z",
          "iopub.status.idle": "2021-06-18T07:59:45.992699Z",
          "shell.execute_reply.started": "2021-06-18T07:59:45.969490Z",
          "shell.execute_reply": "2021-06-18T07:59:45.991747Z"
        },
        "trusted": true,
        "colab": {
          "base_uri": "https://localhost:8080/"
        },
        "id": "TLXpr8u5Pbki",
        "outputId": "de530ce0-05eb-448e-d035-93779ba5419a"
      },
      "source": [
        "input_words = sorted(list(text_words))\n",
        "target_words = sorted(list(code_words))\n",
        "num_encoder_tokens = len(text_words)\n",
        "num_decoder_tokens = len(code_words)\n",
        "num_encoder_tokens, num_decoder_tokens"
      ],
      "execution_count": null,
      "outputs": [
        {
          "output_type": "execute_result",
          "data": {
            "text/plain": [
              "(14819, 11160)"
            ]
          },
          "metadata": {
            "tags": []
          },
          "execution_count": 94
        }
      ]
    },
    {
      "cell_type": "code",
      "metadata": {
        "execution": {
          "iopub.status.busy": "2021-06-18T07:59:46.144225Z",
          "iopub.execute_input": "2021-06-18T07:59:46.144471Z",
          "iopub.status.idle": "2021-06-18T07:59:46.150431Z",
          "shell.execute_reply.started": "2021-06-18T07:59:46.144425Z",
          "shell.execute_reply": "2021-06-18T07:59:46.149571Z"
        },
        "trusted": true,
        "id": "_FC60lFsPbkj"
      },
      "source": [
        "num_decoder_tokens += 1 #for zero padding"
      ],
      "execution_count": null,
      "outputs": []
    },
    {
      "cell_type": "code",
      "metadata": {
        "execution": {
          "iopub.status.busy": "2021-06-18T07:59:46.501555Z",
          "iopub.execute_input": "2021-06-18T07:59:46.501827Z",
          "iopub.status.idle": "2021-06-18T07:59:46.515770Z",
          "shell.execute_reply.started": "2021-06-18T07:59:46.501774Z",
          "shell.execute_reply": "2021-06-18T07:59:46.515081Z"
        },
        "trusted": true,
        "id": "ejNkqqBGPbkj"
      },
      "source": [
        "# Indexing all the tokens for all the codes and texts \n",
        "input_token_index = dict([(word, i+1) for i, word in enumerate(input_words)])\n",
        "target_token_index = dict([(word, i+1) for i, word in enumerate(target_words)])"
      ],
      "execution_count": null,
      "outputs": []
    },
    {
      "cell_type": "code",
      "metadata": {
        "execution": {
          "iopub.status.busy": "2021-06-18T07:59:46.678287Z",
          "iopub.execute_input": "2021-06-18T07:59:46.678568Z",
          "iopub.status.idle": "2021-06-18T07:59:46.687458Z",
          "shell.execute_reply.started": "2021-06-18T07:59:46.678517Z",
          "shell.execute_reply": "2021-06-18T07:59:46.686659Z"
        },
        "trusted": true,
        "id": "jxWGewkFPbkj"
      },
      "source": [
        "reverse_input_char_index = dict((i, word) for word, i in input_token_index.items())\n",
        "reverse_target_char_index = dict((i, word) for word, i in target_token_index.items())"
      ],
      "execution_count": null,
      "outputs": []
    },
    {
      "cell_type": "code",
      "metadata": {
        "execution": {
          "iopub.status.busy": "2021-06-18T07:59:46.857441Z",
          "iopub.execute_input": "2021-06-18T07:59:46.857755Z",
          "iopub.status.idle": "2021-06-18T07:59:46.887005Z",
          "shell.execute_reply.started": "2021-06-18T07:59:46.857697Z",
          "shell.execute_reply": "2021-06-18T07:59:46.886363Z"
        },
        "trusted": true,
        "colab": {
          "base_uri": "https://localhost:8080/",
          "height": 363
        },
        "id": "M1faudNsPbkj",
        "outputId": "e0411f7d-0333-40b4-b95c-7a29301a70d0"
      },
      "source": [
        "lines = shuffle(lines)\n",
        "lines.head(10)"
      ],
      "execution_count": null,
      "outputs": [
        {
          "output_type": "execute_result",
          "data": {
            "text/html": [
              "<div>\n",
              "<style scoped>\n",
              "    .dataframe tbody tr th:only-of-type {\n",
              "        vertical-align: middle;\n",
              "    }\n",
              "\n",
              "    .dataframe tbody tr th {\n",
              "        vertical-align: top;\n",
              "    }\n",
              "\n",
              "    .dataframe thead th {\n",
              "        text-align: right;\n",
              "    }\n",
              "</style>\n",
              "<table border=\"1\" class=\"dataframe\">\n",
              "  <thead>\n",
              "    <tr style=\"text-align: right;\">\n",
              "      <th></th>\n",
              "      <th>text</th>\n",
              "      <th>code</th>\n",
              "      <th>text_length</th>\n",
              "      <th>code_length</th>\n",
              "    </tr>\n",
              "  </thead>\n",
              "  <tbody>\n",
              "    <tr>\n",
              "      <th>258081</th>\n",
              "      <td>declare integers a = size of a, b = size of b</td>\n",
              "      <td>START_ int a = a.size , b = b.size  _END</td>\n",
              "      <td>12</td>\n",
              "      <td>11</td>\n",
              "    </tr>\n",
              "    <tr>\n",
              "      <th>191341</th>\n",
              "      <td>print a + b and a newline</td>\n",
              "      <td>START_ cout &lt;&lt; a + b &lt;&lt; endl  _END</td>\n",
              "      <td>7</td>\n",
              "      <td>10</td>\n",
              "    </tr>\n",
              "    <tr>\n",
              "      <th>209993</th>\n",
              "      <td>print sum print newline</td>\n",
              "      <td>START_ cout &lt;&lt; sum &lt;&lt; endl  _END</td>\n",
              "      <td>4</td>\n",
              "      <td>8</td>\n",
              "    </tr>\n",
              "    <tr>\n",
              "      <th>203040</th>\n",
              "      <td>increment i by 1</td>\n",
              "      <td>START_ i++  _END</td>\n",
              "      <td>4</td>\n",
              "      <td>4</td>\n",
              "    </tr>\n",
              "    <tr>\n",
              "      <th>149603</th>\n",
              "      <td>declare integers x, cnt = 0</td>\n",
              "      <td>START_ int x, cnt = 0  _END</td>\n",
              "      <td>6</td>\n",
              "      <td>8</td>\n",
              "    </tr>\n",
              "    <tr>\n",
              "      <th>113976</th>\n",
              "      <td>return numops</td>\n",
              "      <td>START_ return numops  _END</td>\n",
              "      <td>2</td>\n",
              "      <td>5</td>\n",
              "    </tr>\n",
              "    <tr>\n",
              "      <th>153798</th>\n",
              "      <td>set f 1 to 1</td>\n",
              "      <td>START_ f 1 = 1  _END</td>\n",
              "      <td>5</td>\n",
              "      <td>7</td>\n",
              "    </tr>\n",
              "    <tr>\n",
              "      <th>292590</th>\n",
              "      <td>c=0</td>\n",
              "      <td>START_ c = 0  _END</td>\n",
              "      <td>1</td>\n",
              "      <td>6</td>\n",
              "    </tr>\n",
              "    <tr>\n",
              "      <th>264919</th>\n",
              "      <td>read t</td>\n",
              "      <td>START_ cin &gt;&gt; t  _END</td>\n",
              "      <td>2</td>\n",
              "      <td>6</td>\n",
              "    </tr>\n",
              "    <tr>\n",
              "      <th>201844</th>\n",
              "      <td>for i=0 to n exclusive while read a i</td>\n",
              "      <td>START_ for int i = 0 i &lt; n &amp;&amp; cin &gt;&gt; a i i++  ...</td>\n",
              "      <td>10</td>\n",
              "      <td>17</td>\n",
              "    </tr>\n",
              "  </tbody>\n",
              "</table>\n",
              "</div>"
            ],
            "text/plain": [
              "                                                 text  ... code_length\n",
              "258081  declare integers a = size of a, b = size of b  ...          11\n",
              "191341                      print a + b and a newline  ...          10\n",
              "209993                        print sum print newline  ...           8\n",
              "203040                               increment i by 1  ...           4\n",
              "149603                    declare integers x, cnt = 0  ...           8\n",
              "113976                                  return numops  ...           5\n",
              "153798                                   set f 1 to 1  ...           7\n",
              "292590                                            c=0  ...           6\n",
              "264919                                         read t  ...           6\n",
              "201844         for i=0 to n exclusive while read a i   ...          17\n",
              "\n",
              "[10 rows x 4 columns]"
            ]
          },
          "metadata": {
            "tags": []
          },
          "execution_count": 98
        }
      ]
    },
    {
      "cell_type": "code",
      "metadata": {
        "execution": {
          "iopub.status.busy": "2021-06-18T07:59:47.928314Z",
          "iopub.execute_input": "2021-06-18T07:59:47.928593Z",
          "iopub.status.idle": "2021-06-18T07:59:47.948117Z",
          "shell.execute_reply.started": "2021-06-18T07:59:47.928539Z",
          "shell.execute_reply": "2021-06-18T07:59:47.947127Z"
        },
        "trusted": true,
        "colab": {
          "base_uri": "https://localhost:8080/"
        },
        "id": "YrRIWHHePbkk",
        "outputId": "b64ae9c7-1cec-41e5-c345-80f868c44fd0"
      },
      "source": [
        "# Splitting into training and test set  \n",
        "X, y = lines['text'], lines['code']\n",
        "X_train, X_test, y_train, y_test = train_test_split(X, y, test_size = 0.2,random_state=42)\n",
        "X_train.shape, X_test.shape"
      ],
      "execution_count": null,
      "outputs": [
        {
          "output_type": "execute_result",
          "data": {
            "text/plain": [
              "((156504,), (39127,))"
            ]
          },
          "metadata": {
            "tags": []
          },
          "execution_count": 99
        }
      ]
    },
    {
      "cell_type": "code",
      "metadata": {
        "execution": {
          "iopub.status.busy": "2021-06-18T07:59:48.306583Z",
          "iopub.execute_input": "2021-06-18T07:59:48.306846Z",
          "iopub.status.idle": "2021-06-18T07:59:48.314016Z",
          "shell.execute_reply.started": "2021-06-18T07:59:48.306796Z",
          "shell.execute_reply": "2021-06-18T07:59:48.313290Z"
        },
        "trusted": true,
        "id": "Eigsz8I1Pbkk"
      },
      "source": [
        "def generate_batch(X = X_train, y = y_train, batch_size = 128):\n",
        "    ''' Generate a batch of data '''\n",
        "    while True:\n",
        "        for j in range(0, len(X), batch_size):\n",
        "            # one hot encoding \n",
        "            encoder_input_data = np.zeros((batch_size, max_length_src),dtype='float32')\n",
        "            decoder_input_data = np.zeros((batch_size, max_length_tar),dtype='float32')\n",
        "            decoder_target_data = np.zeros((batch_size, max_length_tar, num_decoder_tokens),dtype='float32')\n",
        "            for i, (input_text, target_text) in enumerate(zip(X[j:j+batch_size], y[j:j+batch_size])):\n",
        "                for t, word in enumerate(input_text.split()):\n",
        "                    encoder_input_data[i, t] = input_token_index[word] \n",
        "                for t, word in enumerate(target_text.split()):\n",
        "                    if t<len(target_text.split())-1:\n",
        "                        decoder_input_data[i, t] = target_token_index[word] \n",
        "                    if t>0:\n",
        "                        decoder_target_data[i, t - 1, target_token_index[word]] = 1.\n",
        "            yield([encoder_input_data, decoder_input_data], decoder_target_data)        # yielding one hot encoded data "
      ],
      "execution_count": null,
      "outputs": []
    },
    {
      "cell_type": "markdown",
      "metadata": {
        "id": "8CktkPOqPbkl"
      },
      "source": [
        "### Encoder-Decoder Architecture"
      ]
    },
    {
      "cell_type": "code",
      "metadata": {
        "execution": {
          "iopub.status.busy": "2021-06-18T07:59:48.651259Z",
          "iopub.execute_input": "2021-06-18T07:59:48.651506Z",
          "iopub.status.idle": "2021-06-18T07:59:48.654850Z",
          "shell.execute_reply.started": "2021-06-18T07:59:48.651460Z",
          "shell.execute_reply": "2021-06-18T07:59:48.654105Z"
        },
        "trusted": true,
        "id": "pW_EoxJyPbkl"
      },
      "source": [
        "latent_dim=300"
      ],
      "execution_count": null,
      "outputs": []
    },
    {
      "cell_type": "code",
      "metadata": {
        "execution": {
          "iopub.status.busy": "2021-06-18T07:59:49.266145Z",
          "iopub.execute_input": "2021-06-18T07:59:49.266686Z",
          "iopub.status.idle": "2021-06-18T07:59:49.930288Z",
          "shell.execute_reply.started": "2021-06-18T07:59:49.266632Z",
          "shell.execute_reply": "2021-06-18T07:59:49.929464Z"
        },
        "trusted": true,
        "id": "1FaZEAXHPbkl"
      },
      "source": [
        "# Encoder\n",
        "encoder_inputs = Input(shape=(None,))\n",
        "enc_emb =  Embedding(num_encoder_tokens, latent_dim, mask_zero = True)(encoder_inputs)\n",
        "\n",
        "encoder_lstm = LSTM(latent_dim, return_state=True)      \n",
        "# return_state is set to True so that the last layer of encoder returns the output to the first layer of decoder  \n",
        "\n",
        "encoder_outputs, state_h, state_c = encoder_lstm(enc_emb)\n",
        "encoder_states = [state_h, state_c]     # hidden state and cell state "
      ],
      "execution_count": null,
      "outputs": []
    },
    {
      "cell_type": "code",
      "metadata": {
        "execution": {
          "iopub.status.busy": "2021-06-18T07:59:49.931701Z",
          "iopub.execute_input": "2021-06-18T07:59:49.932148Z",
          "iopub.status.idle": "2021-06-18T07:59:50.297203Z",
          "shell.execute_reply.started": "2021-06-18T07:59:49.931954Z",
          "shell.execute_reply": "2021-06-18T07:59:50.296314Z"
        },
        "trusted": true,
        "id": "AZwYr601Pbkm"
      },
      "source": [
        "# Decoder\n",
        "decoder_inputs = Input(shape=(None,))\n",
        "dec_emb_layer = Embedding(num_decoder_tokens, latent_dim, mask_zero = True)\n",
        "dec_emb = dec_emb_layer(decoder_inputs)\n",
        "\n",
        "decoder_lstm = LSTM(latent_dim, return_sequences=True, return_state=True)\n",
        "# return_sequences and return_states are kept true so that the output of decoder states are captured \n",
        "\n",
        "decoder_outputs, _, _ = decoder_lstm(dec_emb, initial_state=encoder_states)\n",
        "decoder_dense = Dense(num_decoder_tokens, activation='softmax')\n",
        "decoder_outputs = decoder_dense(decoder_outputs)\n",
        "\n",
        "model = Model([encoder_inputs, decoder_inputs], decoder_outputs)"
      ],
      "execution_count": null,
      "outputs": []
    },
    {
      "cell_type": "code",
      "metadata": {
        "execution": {
          "iopub.status.busy": "2021-06-18T07:59:50.298554Z",
          "iopub.execute_input": "2021-06-18T07:59:50.298884Z",
          "iopub.status.idle": "2021-06-18T07:59:50.334723Z",
          "shell.execute_reply.started": "2021-06-18T07:59:50.298835Z",
          "shell.execute_reply": "2021-06-18T07:59:50.334161Z"
        },
        "trusted": true,
        "id": "7ViAkSNXPbkm"
      },
      "source": [
        "model.compile(optimizer='rmsprop', loss='categorical_crossentropy')"
      ],
      "execution_count": null,
      "outputs": []
    },
    {
      "cell_type": "code",
      "metadata": {
        "execution": {
          "iopub.status.busy": "2021-06-18T07:59:50.552467Z",
          "iopub.execute_input": "2021-06-18T07:59:50.552698Z",
          "iopub.status.idle": "2021-06-18T07:59:50.564236Z",
          "shell.execute_reply.started": "2021-06-18T07:59:50.552653Z",
          "shell.execute_reply": "2021-06-18T07:59:50.562824Z"
        },
        "trusted": true,
        "colab": {
          "base_uri": "https://localhost:8080/"
        },
        "id": "HlMq30xKPbkm",
        "outputId": "7b65d778-8066-4d74-ff84-ee6d63ab3c2f"
      },
      "source": [
        "model.summary()"
      ],
      "execution_count": null,
      "outputs": [
        {
          "output_type": "stream",
          "text": [
            "Model: \"model_2\"\n",
            "__________________________________________________________________________________________________\n",
            "Layer (type)                    Output Shape         Param #     Connected to                     \n",
            "==================================================================================================\n",
            "input_5 (InputLayer)            [(None, None)]       0                                            \n",
            "__________________________________________________________________________________________________\n",
            "input_6 (InputLayer)            [(None, None)]       0                                            \n",
            "__________________________________________________________________________________________________\n",
            "embedding_4 (Embedding)         (None, None, 300)    4445700     input_5[0][0]                    \n",
            "__________________________________________________________________________________________________\n",
            "embedding_5 (Embedding)         (None, None, 300)    3348300     input_6[0][0]                    \n",
            "__________________________________________________________________________________________________\n",
            "lstm_4 (LSTM)                   [(None, 300), (None, 721200      embedding_4[0][0]                \n",
            "__________________________________________________________________________________________________\n",
            "lstm_5 (LSTM)                   [(None, None, 300),  721200      embedding_5[0][0]                \n",
            "                                                                 lstm_4[0][1]                     \n",
            "                                                                 lstm_4[0][2]                     \n",
            "__________________________________________________________________________________________________\n",
            "dense_2 (Dense)                 (None, None, 11161)  3359461     lstm_5[0][0]                     \n",
            "==================================================================================================\n",
            "Total params: 12,595,861\n",
            "Trainable params: 12,595,861\n",
            "Non-trainable params: 0\n",
            "__________________________________________________________________________________________________\n"
          ],
          "name": "stdout"
        }
      ]
    },
    {
      "cell_type": "code",
      "metadata": {
        "execution": {
          "iopub.status.busy": "2021-06-18T07:59:51.091818Z",
          "iopub.execute_input": "2021-06-18T07:59:51.092132Z",
          "iopub.status.idle": "2021-06-18T07:59:51.096670Z",
          "shell.execute_reply.started": "2021-06-18T07:59:51.092063Z",
          "shell.execute_reply": "2021-06-18T07:59:51.095580Z"
        },
        "trusted": true,
        "id": "1YlNuyTmPbkn"
      },
      "source": [
        "train_samples = len(X_train)\n",
        "val_samples = len(X_test)\n",
        "batch_size = 256\n",
        "epochs = 50"
      ],
      "execution_count": null,
      "outputs": []
    },
    {
      "cell_type": "code",
      "metadata": {
        "execution": {
          "iopub.status.busy": "2021-06-18T07:59:52.006470Z",
          "iopub.execute_input": "2021-06-18T07:59:52.006759Z",
          "iopub.status.idle": "2021-06-18T10:14:45.963400Z",
          "shell.execute_reply.started": "2021-06-18T07:59:52.006707Z",
          "shell.execute_reply": "2021-06-18T10:14:45.962379Z"
        },
        "trusted": true,
        "colab": {
          "base_uri": "https://localhost:8080/"
        },
        "id": "t_lE6mLxPbkn",
        "outputId": "e1ffd829-7e65-43d2-ea12-112426be6b39"
      },
      "source": [
        "history = model.fit_generator(generator = generate_batch(X_train, y_train, batch_size = batch_size),\n",
        "                    steps_per_epoch = train_samples//batch_size,\n",
        "                    epochs=epochs,\n",
        "                    validation_data = generate_batch(X_test, y_test, batch_size = batch_size),\n",
        "                    validation_steps = val_samples//batch_size)\n",
        "\n"
      ],
      "execution_count": null,
      "outputs": [
        {
          "output_type": "stream",
          "text": [
            "Epoch 1/50\n",
            "610/611 [============================>.] - ETA: 0s - loss: 0.8224Epoch 1/50\n",
            "611/611 [==============================] - 287s 469ms/step - loss: 0.8219 - val_loss: 0.5224\n",
            "Epoch 2/50\n",
            "610/611 [============================>.] - ETA: 0s - loss: 0.4167Epoch 1/50\n",
            "611/611 [==============================] - 281s 460ms/step - loss: 0.4165 - val_loss: 0.3525\n",
            "Epoch 3/50\n",
            "610/611 [============================>.] - ETA: 0s - loss: 0.2997Epoch 1/50\n",
            "611/611 [==============================] - 283s 463ms/step - loss: 0.2997 - val_loss: 0.2833\n",
            "Epoch 4/50\n",
            "610/611 [============================>.] - ETA: 0s - loss: 0.2417Epoch 1/50\n",
            "611/611 [==============================] - 279s 457ms/step - loss: 0.2416 - val_loss: 0.2488\n",
            "Epoch 5/50\n",
            "610/611 [============================>.] - ETA: 0s - loss: 0.2056Epoch 1/50\n",
            "611/611 [==============================] - 280s 459ms/step - loss: 0.2055 - val_loss: 0.2297\n",
            "Epoch 6/50\n",
            "610/611 [============================>.] - ETA: 0s - loss: 0.1803Epoch 1/50\n",
            "611/611 [==============================] - 280s 458ms/step - loss: 0.1803 - val_loss: 0.2163\n",
            "Epoch 7/50\n",
            "610/611 [============================>.] - ETA: 0s - loss: 0.1612Epoch 1/50\n",
            "611/611 [==============================] - 279s 456ms/step - loss: 0.1612 - val_loss: 0.2080\n",
            "Epoch 8/50\n",
            "610/611 [============================>.] - ETA: 0s - loss: 0.1461Epoch 1/50\n",
            "611/611 [==============================] - 279s 456ms/step - loss: 0.1460 - val_loss: 0.2020\n",
            "Epoch 9/50\n",
            "610/611 [============================>.] - ETA: 0s - loss: 0.1339Epoch 1/50\n",
            "611/611 [==============================] - 278s 455ms/step - loss: 0.1339 - val_loss: 0.1978\n",
            "Epoch 10/50\n",
            "610/611 [============================>.] - ETA: 0s - loss: 0.1244Epoch 1/50\n",
            "611/611 [==============================] - 278s 455ms/step - loss: 0.1244 - val_loss: 0.1948\n",
            "Epoch 11/50\n",
            "610/611 [============================>.] - ETA: 0s - loss: 0.1172Epoch 1/50\n",
            "611/611 [==============================] - 278s 455ms/step - loss: 0.1172 - val_loss: 0.1936\n",
            "Epoch 12/50\n",
            "610/611 [============================>.] - ETA: 0s - loss: 0.1113Epoch 1/50\n",
            "611/611 [==============================] - 278s 455ms/step - loss: 0.1113 - val_loss: 0.1928\n",
            "Epoch 13/50\n",
            "610/611 [============================>.] - ETA: 0s - loss: 0.1060Epoch 1/50\n",
            "611/611 [==============================] - 279s 456ms/step - loss: 0.1059 - val_loss: 0.1914\n",
            "Epoch 14/50\n",
            "610/611 [============================>.] - ETA: 0s - loss: 0.1010Epoch 1/50\n",
            "611/611 [==============================] - 279s 456ms/step - loss: 0.1010 - val_loss: 0.1893\n",
            "Epoch 15/50\n",
            "610/611 [============================>.] - ETA: 0s - loss: 0.0966Epoch 1/50\n",
            "611/611 [==============================] - 278s 456ms/step - loss: 0.0966 - val_loss: 0.1890\n",
            "Epoch 16/50\n",
            "610/611 [============================>.] - ETA: 0s - loss: 0.0926Epoch 1/50\n",
            "611/611 [==============================] - 277s 453ms/step - loss: 0.0926 - val_loss: 0.1889\n",
            "Epoch 17/50\n",
            "610/611 [============================>.] - ETA: 0s - loss: 0.0895Epoch 1/50\n",
            "611/611 [==============================] - 277s 453ms/step - loss: 0.0895 - val_loss: 0.1888\n",
            "Epoch 18/50\n",
            "610/611 [============================>.] - ETA: 0s - loss: 0.0865Epoch 1/50\n",
            "611/611 [==============================] - 279s 457ms/step - loss: 0.0865 - val_loss: 0.1885\n",
            "Epoch 19/50\n",
            "610/611 [============================>.] - ETA: 0s - loss: 0.0836Epoch 1/50\n",
            "611/611 [==============================] - 277s 453ms/step - loss: 0.0836 - val_loss: 0.1879\n",
            "Epoch 20/50\n",
            "610/611 [============================>.] - ETA: 0s - loss: 0.0810Epoch 1/50\n",
            "611/611 [==============================] - 277s 453ms/step - loss: 0.0810 - val_loss: 0.1889\n",
            "Epoch 21/50\n",
            "610/611 [============================>.] - ETA: 0s - loss: 0.0786Epoch 1/50\n",
            "611/611 [==============================] - 277s 453ms/step - loss: 0.0786 - val_loss: 0.1878\n",
            "Epoch 22/50\n",
            "610/611 [============================>.] - ETA: 0s - loss: 0.0763Epoch 1/50\n",
            "611/611 [==============================] - 277s 453ms/step - loss: 0.0763 - val_loss: 0.1876\n",
            "Epoch 23/50\n",
            "610/611 [============================>.] - ETA: 0s - loss: 0.0743Epoch 1/50\n",
            "611/611 [==============================] - 277s 454ms/step - loss: 0.0743 - val_loss: 0.1882\n",
            "Epoch 24/50\n",
            "610/611 [============================>.] - ETA: 0s - loss: 0.0725Epoch 1/50\n",
            "611/611 [==============================] - 277s 454ms/step - loss: 0.0726 - val_loss: 0.1888\n",
            "Epoch 25/50\n",
            "610/611 [============================>.] - ETA: 0s - loss: 0.0711Epoch 1/50\n",
            "611/611 [==============================] - 276s 452ms/step - loss: 0.0711 - val_loss: 0.1893\n",
            "Epoch 26/50\n",
            "610/611 [============================>.] - ETA: 0s - loss: 0.0697Epoch 1/50\n",
            "611/611 [==============================] - 277s 453ms/step - loss: 0.0697 - val_loss: 0.1889\n",
            "Epoch 27/50\n",
            "610/611 [============================>.] - ETA: 0s - loss: 0.0683Epoch 1/50\n",
            "611/611 [==============================] - 276s 451ms/step - loss: 0.0683 - val_loss: 0.1886\n",
            "Epoch 28/50\n",
            "610/611 [============================>.] - ETA: 0s - loss: 0.0670Epoch 1/50\n",
            "611/611 [==============================] - 276s 452ms/step - loss: 0.0670 - val_loss: 0.1896\n",
            "Epoch 29/50\n",
            "610/611 [============================>.] - ETA: 0s - loss: 0.0656Epoch 1/50\n",
            "611/611 [==============================] - 276s 452ms/step - loss: 0.0656 - val_loss: 0.1893\n",
            "Epoch 30/50\n",
            "610/611 [============================>.] - ETA: 0s - loss: 0.0645Epoch 1/50\n",
            "611/611 [==============================] - 277s 453ms/step - loss: 0.0645 - val_loss: 0.1894\n",
            "Epoch 31/50\n",
            "610/611 [============================>.] - ETA: 0s - loss: 0.0633Epoch 1/50\n",
            "611/611 [==============================] - 275s 451ms/step - loss: 0.0633 - val_loss: 0.1903\n",
            "Epoch 32/50\n",
            "610/611 [============================>.] - ETA: 0s - loss: 0.0621Epoch 1/50\n",
            "611/611 [==============================] - 275s 451ms/step - loss: 0.0621 - val_loss: 0.1903\n",
            "Epoch 33/50\n",
            "610/611 [============================>.] - ETA: 0s - loss: 0.0611Epoch 1/50\n",
            "611/611 [==============================] - 275s 451ms/step - loss: 0.0610 - val_loss: 0.1903\n",
            "Epoch 34/50\n",
            "610/611 [============================>.] - ETA: 0s - loss: 0.0600Epoch 1/50\n",
            "611/611 [==============================] - 277s 453ms/step - loss: 0.0600 - val_loss: 0.1916\n",
            "Epoch 35/50\n",
            "610/611 [============================>.] - ETA: 0s - loss: 0.0591Epoch 1/50\n",
            "611/611 [==============================] - 275s 450ms/step - loss: 0.0591 - val_loss: 0.1922\n",
            "Epoch 36/50\n",
            "610/611 [============================>.] - ETA: 0s - loss: 0.0581Epoch 1/50\n",
            "611/611 [==============================] - 275s 451ms/step - loss: 0.0581 - val_loss: 0.1920\n",
            "Epoch 37/50\n",
            "610/611 [============================>.] - ETA: 0s - loss: 0.0571Epoch 1/50\n",
            "611/611 [==============================] - 277s 453ms/step - loss: 0.0572 - val_loss: 0.1924\n",
            "Epoch 38/50\n",
            "610/611 [============================>.] - ETA: 0s - loss: 0.0562Epoch 1/50\n",
            "611/611 [==============================] - 275s 451ms/step - loss: 0.0562 - val_loss: 0.1932\n",
            "Epoch 39/50\n",
            "610/611 [============================>.] - ETA: 0s - loss: 0.0555Epoch 1/50\n",
            "611/611 [==============================] - 274s 449ms/step - loss: 0.0555 - val_loss: 0.1932\n",
            "Epoch 40/50\n",
            "610/611 [============================>.] - ETA: 0s - loss: 0.0547Epoch 1/50\n",
            "611/611 [==============================] - 274s 449ms/step - loss: 0.0547 - val_loss: 0.1946\n",
            "Epoch 41/50\n",
            "610/611 [============================>.] - ETA: 0s - loss: 0.0538Epoch 1/50\n",
            "611/611 [==============================] - 274s 449ms/step - loss: 0.0538 - val_loss: 0.1954\n",
            "Epoch 42/50\n",
            "610/611 [============================>.] - ETA: 0s - loss: 0.0531Epoch 1/50\n",
            "611/611 [==============================] - 274s 448ms/step - loss: 0.0531 - val_loss: 0.1952\n",
            "Epoch 43/50\n",
            "610/611 [============================>.] - ETA: 0s - loss: 0.0523Epoch 1/50\n",
            "611/611 [==============================] - 274s 449ms/step - loss: 0.0523 - val_loss: 0.1961\n",
            "Epoch 44/50\n",
            "610/611 [============================>.] - ETA: 0s - loss: 0.0516Epoch 1/50\n",
            "611/611 [==============================] - 274s 448ms/step - loss: 0.0516 - val_loss: 0.1969\n",
            "Epoch 45/50\n",
            "610/611 [============================>.] - ETA: 0s - loss: 0.0510Epoch 1/50\n",
            "611/611 [==============================] - 276s 451ms/step - loss: 0.0510 - val_loss: 0.1973\n",
            "Epoch 46/50\n",
            "610/611 [============================>.] - ETA: 0s - loss: 0.0504Epoch 1/50\n",
            "611/611 [==============================] - 274s 449ms/step - loss: 0.0504 - val_loss: 0.1983\n",
            "Epoch 47/50\n",
            "610/611 [============================>.] - ETA: 0s - loss: 0.0497Epoch 1/50\n",
            "611/611 [==============================] - 274s 449ms/step - loss: 0.0497 - val_loss: 0.1987\n",
            "Epoch 48/50\n",
            "610/611 [============================>.] - ETA: 0s - loss: 0.0492Epoch 1/50\n",
            "611/611 [==============================] - 275s 450ms/step - loss: 0.0491 - val_loss: 0.1997\n",
            "Epoch 49/50\n",
            "610/611 [============================>.] - ETA: 0s - loss: 0.0485Epoch 1/50\n",
            "611/611 [==============================] - 275s 450ms/step - loss: 0.0485 - val_loss: 0.1993\n",
            "Epoch 50/50\n",
            "610/611 [============================>.] - ETA: 0s - loss: 0.0480Epoch 1/50\n",
            "611/611 [==============================] - 275s 450ms/step - loss: 0.0480 - val_loss: 0.2004\n"
          ],
          "name": "stdout"
        }
      ]
    },
    {
      "cell_type": "code",
      "metadata": {
        "execution": {
          "iopub.status.busy": "2021-06-18T10:14:45.964898Z",
          "iopub.execute_input": "2021-06-18T10:14:45.965201Z",
          "iopub.status.idle": "2021-06-18T10:14:46.234284Z",
          "shell.execute_reply.started": "2021-06-18T10:14:45.965151Z",
          "shell.execute_reply": "2021-06-18T10:14:46.233389Z"
        },
        "trusted": true,
        "id": "ryGQbuH3Pbkn",
        "colab": {
          "base_uri": "https://localhost:8080/",
          "height": 299
        },
        "outputId": "7369f7bc-ce8f-4890-f86d-712caa6b29fc"
      },
      "source": [
        "import matplotlib.pyplot as plt \n",
        "\n",
        "plt.plot(history.history['loss'], c=\"m\")\n",
        "plt.plot(history.history['val_loss'], c=\"y\")\n",
        "plt.legend([\"train_loss\", \"validation_loss\"])\n",
        "plt.title(\"MODEL\")\n",
        "plt.xlabel(\"no of epochs\", fontsize=14)\n",
        "plt.ylabel(\"model_loss\", fontsize=14)\n",
        "plt.show()"
      ],
      "execution_count": null,
      "outputs": [
        {
          "output_type": "display_data",
          "data": {
            "image/png": "[encoded data removed]",
            "text/plain": [
              "<Figure size 432x288 with 1 Axes>"
            ]
          },
          "metadata": {
            "tags": [],
            "needs_background": "light"
          }
        }
      ]
    },
    {
      "cell_type": "code",
      "metadata": {
        "execution": {
          "iopub.status.busy": "2021-06-18T10:14:46.237328Z",
          "iopub.execute_input": "2021-06-18T10:14:46.239876Z",
          "iopub.status.idle": "2021-06-18T10:14:46.528801Z",
          "shell.execute_reply.started": "2021-06-18T10:14:46.239803Z",
          "shell.execute_reply": "2021-06-18T10:14:46.528162Z"
        },
        "trusted": true,
        "id": "lrHGgyPKPbkn"
      },
      "source": [
        "# Encode input sequence to get the \"thought vectors\"\n",
        "encoder_model = Model(encoder_inputs, encoder_states)\n",
        "\n",
        "# Decoder setup\n",
        "# Below tensors will hold the states of the previous time step\n",
        "decoder_state_input_h = Input(shape=(latent_dim,))\n",
        "decoder_state_input_c = Input(shape=(latent_dim,))\n",
        "decoder_states_inputs = [decoder_state_input_h, decoder_state_input_c]\n",
        "\n",
        "dec_emb2= dec_emb_layer(decoder_inputs) # Get the embeddings of the decoder sequence\n",
        "\n",
        "# To predict the next word in the sequence, set the initial states to the states from the previous time step\n",
        "decoder_outputs2, state_h2, state_c2 = decoder_lstm(dec_emb2, initial_state=decoder_states_inputs)\n",
        "decoder_states2 = [state_h2, state_c2]\n",
        "decoder_outputs2 = decoder_dense(decoder_outputs2) # A dense softmax layer to generate prob dist. over the target vocabulary\n",
        "\n",
        "# Final decoder model\n",
        "decoder_model = Model(\n",
        "    [decoder_inputs] + decoder_states_inputs,\n",
        "    [decoder_outputs2] + decoder_states2)\n"
      ],
      "execution_count": null,
      "outputs": []
    },
    {
      "cell_type": "code",
      "metadata": {
        "execution": {
          "iopub.status.busy": "2021-06-18T10:14:46.531713Z",
          "iopub.execute_input": "2021-06-18T10:14:46.532165Z",
          "iopub.status.idle": "2021-06-18T10:14:46.539589Z",
          "shell.execute_reply.started": "2021-06-18T10:14:46.532110Z",
          "shell.execute_reply": "2021-06-18T10:14:46.538969Z"
        },
        "trusted": true,
        "id": "6LuSQkGQPbko"
      },
      "source": [
        "def decode_sequence(input_seq):\n",
        "    # Encode the input as state vectors.\n",
        "    states_value = encoder_model.predict(input_seq)\n",
        "    # Generate empty target sequence of length 1.\n",
        "    target_seq = np.zeros((1,1))\n",
        "    # Populate the first character of target sequence with the start character.\n",
        "    target_seq[0, 0] = target_token_index['START_']\n",
        "\n",
        "    # Sampling loop for a batch of sequences\n",
        "    # (to simplify, here we assume a batch of size 1).\n",
        "    stop_condition = False\n",
        "    decoded_sentence = ''\n",
        "    while not stop_condition:\n",
        "        output_tokens, h, c = decoder_model.predict([target_seq] + states_value)\n",
        "\n",
        "        # Sample a token\n",
        "        sampled_token_index = np.argmax(output_tokens[0, -1, :])\n",
        "        sampled_char = reverse_target_char_index[sampled_token_index]\n",
        "        decoded_sentence += ' '+sampled_char\n",
        "\n",
        "        # Exit condition: either hit max length\n",
        "        # or find stop character.\n",
        "        if (sampled_char == '_END' or\n",
        "           len(decoded_sentence) > 50):\n",
        "            stop_condition = True\n",
        "\n",
        "        # Update the target sequence (of length 1).\n",
        "        target_seq = np.zeros((1,1))\n",
        "        target_seq[0, 0] = sampled_token_index\n",
        "\n",
        "        # Update states\n",
        "        states_value = [h, c]\n",
        "\n",
        "    return decoded_sentence"
      ],
      "execution_count": null,
      "outputs": []
    },
    {
      "cell_type": "code",
      "metadata": {
        "id": "f4L7Y0XLPbko"
      },
      "source": [
        "# Saving encoder and decoder weights \n",
        "\n",
        "with open('encoder_model.json', 'w', encoding='utf8') as f:\n",
        "    f.write(encoder_model.to_json())\n",
        "encoder_model.save_weights('encoder_model_weights.h5')\n",
        "\n",
        "with open('decoder_model.json', 'w', encoding='utf8') as f:\n",
        "    f.write(decoder_model.to_json())\n",
        "decoder_model.save_weights('decoder_model_weights.h5')\n",
        "\n",
        "# Saving the model \n",
        "model.save(\"model.h5py\")\n",
        "model.save(\"model.h5\")\n",
        "! cp model.h5 drive/MyDrive/dataset/model.h5"
      ],
      "execution_count": null,
      "outputs": []
    },
    {
      "cell_type": "code",
      "metadata": {
        "id": "Uc67IYLURbI5"
      },
      "source": [
        "# ! mkdir drive/MyDrive/Dataset/newDir\n",
        "! cp model.h5py drive/MyDrive/dataset/model.h5py\n",
        "! cp model.h5 drive/MyDrive/dataset/model.h5\n",
        "! cp decoder_model.json drive/MyDrive/dataset/decoder_model.json\n",
        "! cp decoder_model_weights.h5 drive/MyDrive/dataset/decoder_model_weights.h5\n",
        "! cp encoder_model.json drive/MyDrive/dataset/encoder_model.json\n",
        "! cp encoder_model_weights.h5 drive/MyDrive/dataset/encoder_model_weights.h5"
      ],
      "execution_count": null,
      "outputs": []
    },
    {
      "cell_type": "code",
      "metadata": {
        "execution": {
          "iopub.status.busy": "2021-06-18T10:14:46.540958Z",
          "iopub.execute_input": "2021-06-18T10:14:46.541396Z",
          "iopub.status.idle": "2021-06-18T10:14:46.554254Z",
          "shell.execute_reply.started": "2021-06-18T10:14:46.541339Z",
          "shell.execute_reply": "2021-06-18T10:14:46.553438Z"
        },
        "trusted": true,
        "id": "6qU1Zi0MPbko"
      },
      "source": [
        "test_gen = generate_batch(X_test, y_test, batch_size = 1)\n",
        "k=-1\n"
      ],
      "execution_count": null,
      "outputs": []
    },
    {
      "cell_type": "code",
      "metadata": {
        "execution": {
          "iopub.status.busy": "2021-06-18T10:14:46.555743Z",
          "iopub.execute_input": "2021-06-18T10:14:46.556301Z",
          "iopub.status.idle": "2021-06-18T10:14:46.884417Z",
          "shell.execute_reply.started": "2021-06-18T10:14:46.556056Z",
          "shell.execute_reply": "2021-06-18T10:14:46.883730Z"
        },
        "trusted": true,
        "id": "bP6fylVyPbko",
        "colab": {
          "base_uri": "https://localhost:8080/"
        },
        "outputId": "3f991a2a-7636-4fd1-95a5-95ad90dce35c"
      },
      "source": [
        "while k<50:\n",
        "    k+=1\n",
        "    (input_seq, actual_output), _ = next(test_gen)\n",
        "    decoded_sentence = decode_sequence(input_seq)\n",
        "    print('input pseudocode:', X_test[k:k+1].values[0])\n",
        "    print('actual c code:', y_test[k:k+1].values[0][6:-4])\n",
        "    print('predicted c code:', decoded_sentence[:-4])\n",
        "    print()"
      ],
      "execution_count": null,
      "outputs": [
        {
          "output_type": "stream",
          "text": [
            "input pseudocode: set flag to 1\n",
            "actual c code:  flag = 1  \n",
            "predicted c code:  flag = 1 \n",
            "\n",
            "input pseudocode: increment t\n",
            "actual c code:  t++  \n",
            "predicted c code:  t++ \n",
            "\n",
            "input pseudocode: g = \"r\"\n",
            "actual c code:  g = \"r\"  \n",
            "predicted c code:  g = \"r\" \n",
            "\n",
            "input pseudocode: if assistanttemps i > max or assistanttemps i < min\n",
            "actual c code:  if assistanttemps i > max || assistanttemps i < min  \n",
            "predicted c code:  if max > i || min if f2 i \n",
            "\n",
            "input pseudocode: declare long longs n, a\n",
            "actual c code:  long long n, a  \n",
            "predicted c code:  long long n, a \n",
            "\n",
            "input pseudocode: increment j\n",
            "actual c code:  j++  \n",
            "predicted c code:  j++ \n",
            "\n",
            "input pseudocode: print tot and newline\n",
            "actual c code:  cout << tot << endl  \n",
            "predicted c code:  cout << tot << endl \n",
            "\n",
            "input pseudocode: add a i to cnt1\n",
            "actual c code:  cnt1 += a i  \n",
            "predicted c code:  check += cnt1 i \n",
            "\n",
            "input pseudocode: create long integer a, maxx, z\n",
            "actual c code:  long int a, maxx, z  \n",
            "predicted c code:  long int a, x, maxx \n",
            "\n",
            "input pseudocode: read standard input to n\n",
            "actual c code:  cin >> n  \n",
            "predicted c code:  cin >> n \n",
            "\n",
            "input pseudocode: print i + 1 and newline\n",
            "actual c code:  cout << i + 1 << '\\n'  \n",
            "predicted c code:  cout << i + 1 << endl \n",
            "\n",
            "input pseudocode: loop while a is not 0\n",
            "actual c code:  while a != 0  \n",
            "predicted c code:  while a \n",
            "\n",
            "input pseudocode: read n\n",
            "actual c code:  cin >> n  \n",
            "predicted c code:  cin >> n \n",
            "\n",
            "input pseudocode: print \"first\"\n",
            "actual c code:  cout << \"first\" << endl  \n",
            "predicted c code:  cout << \"first\" << endl \n",
            "\n",
            "input pseudocode: if substring of s2 from index i with length 5 = s 0 or s 2 , increment cnt\n",
            "actual c code:  if s2.substr i, 5 == s 0 || s2.substr i, 5 == s 2 cnt++  \n",
            "predicted c code:  if s.substr i, 2 == 0 cnt++ \n",
            "\n",
            "input pseudocode: print count\n",
            "actual c code:  cout << count << endl  \n",
            "predicted c code:  cout << count << endl \n",
            "\n",
            "input pseudocode: let t be a integer\n",
            "actual c code:  int t  \n",
            "predicted c code:  int t \n",
            "\n",
            "input pseudocode: while read s\n",
            "actual c code:  while cin >> s  \n",
            "predicted c code:  while cin >> s \n",
            "\n",
            "input pseudocode: if a i * m = 1, increment cnt by one\n",
            "actual c code:  if a i * m == 1 cnt++  \n",
            "predicted c code:  if a i * m == 1 cnt++ \n",
            "\n",
            "input pseudocode: if a i is 4\n",
            "actual c code:  if a i == '4'  \n",
            "predicted c code:  if a i == '4' \n",
            "\n",
            "input pseudocode: if a j is greater than x and b j is y, increment x1\n",
            "actual c code:  if a j > x && b j == y x1++  \n",
            "predicted c code:  if a j > x && b j == y k++ \n",
            "\n",
            "input pseudocode: while y is not 0\n",
            "actual c code:  while y  \n",
            "predicted c code:  while y != 0 \n",
            "\n",
            "input pseudocode: set p to i hate\n",
            "actual c code:  p = \"i hate \"  \n",
            "predicted c code:  p = \"that i hate \" \n",
            "\n",
            "input pseudocode: else\n",
            "actual c code:   else  \n",
            "predicted c code:  else \n",
            "\n",
            "input pseudocode: declare integer variable ipar = par i \n",
            "actual c code:  int ipar = par i  \n",
            "predicted c code:  int int par = i \n",
            "\n",
            "input pseudocode: print s\n",
            "actual c code:  cout << s << endl  \n",
            "predicted c code:  cout << s << endl \n",
            "\n",
            "input pseudocode: set c1, c2, f1, f2 to 0\n",
            "actual c code:  long long int c1 = 0, c2 = 0, f1 = 0, f2 = 0  \n",
            "predicted c code:  \"-1\" = \"no\" - \"no\" != f2 0 prev \n",
            "\n",
            "input pseudocode: a, b, c = long longs\n",
            "actual c code:  long long a, b, c  \n",
            "predicted c code:  long long a, b, c \n",
            "\n",
            "input pseudocode: if m % 10 is equal to 7, return true\n",
            "actual c code:  if m % 10 == 7 return true  \n",
            "predicted c code:  if m % 10 == 7 return true \n",
            "\n",
            "input pseudocode: change mp '>' to 3\n",
            "actual c code:  mp '>' = 3  \n",
            "predicted c code:  mp !check - 3 = 3 \n",
            "\n",
            "input pseudocode: divide a by 10\n",
            "actual c code:  a /= 10  \n",
            "predicted c code:  a /= 10 \n",
            "\n",
            "input pseudocode: for integer i = 1 to length of s exclusive\n",
            "actual c code:  for int i = 1 i < int s.size i++  \n",
            "predicted c code:  for int i = 1 i < s.size i++ \n",
            "\n",
            "input pseudocode: create integer vector a initialized with n\n",
            "actual c code:  vector<int> a n  \n",
            "predicted c code:  vector<int> a n \n",
            "\n",
            "input pseudocode: break the loop\n",
            "actual c code:  break  \n",
            "predicted c code:  break \n",
            "\n",
            "input pseudocode: print o-|-oooo\n",
            "actual c code:  cout << \"o-|-oooo\" << endl  \n",
            "predicted c code:  cout << \"o-|-oooo\" << endl \n",
            "\n",
            "input pseudocode: set string result to\n",
            "actual c code:  string result = \"\"  \n",
            "predicted c code:  string result = endl \n",
            "\n",
            "input pseudocode: print \"segment\" print newline\n",
            "actual c code:  cout << \"segment\" << endl  \n",
            "predicted c code:  cout << \"segment\" << endl \n",
            "\n",
            "input pseudocode: for j=0 to 3 exclusive print ans i j \n",
            "actual c code:  for int j = 0 j < 3 j++ cout << ans i j  \n",
            "predicted c code:  for int j = 0 j < 3 j++ cout << ans i j \n",
            "\n",
            "input pseudocode: print \"yes\"\n",
            "actual c code:  cout << \"yes\" << endl  \n",
            "predicted c code:  cout << \"yes\" << endl \n",
            "\n",
            "input pseudocode: read str2, str3\n",
            "actual c code:  cin >> str2 >> str3  \n",
            "predicted c code:  cin >> str.length >> y \n",
            "\n",
            "input pseudocode: jw is equal to a + jw / 2\n",
            "actual c code:  jw = a + jw / 2  \n",
            "predicted c code:  'a' = n, + b \n",
            "\n",
            "input pseudocode: create integer p\n",
            "actual c code:  int p  \n",
            "predicted c code:  int p \n",
            "\n",
            "input pseudocode: declare string called s\n",
            "actual c code:  string s  \n",
            "predicted c code:  string s \n",
            "\n",
            "input pseudocode: while x is greater than 0\n",
            "actual c code:  while x > 0  \n",
            "predicted c code:  while x > 0 \n",
            "\n",
            "input pseudocode: increment x\n",
            "actual c code:  x++  \n",
            "predicted c code:  x++ \n",
            "\n",
            "input pseudocode: bonus = long long with bonus = 0\n",
            "actual c code:  long long bonus = 0  \n",
            "predicted c code:  long long % s.size = 0, 0, \n",
            "\n",
            "input pseudocode: create constant integer inf with inf = 1e9\n",
            "actual c code:  const int inf = 1e9  \n",
            "predicted c code:  const int inf = 1e9 \n",
            "\n",
            "input pseudocode: read user input to score\n",
            "actual c code:  cin >> score  \n",
            "predicted c code:  cin >> score \n",
            "\n",
            "input pseudocode: output max\n",
            "actual c code:  cout << max << endl  \n",
            "predicted c code:  cout << max << endl \n",
            "\n",
            "input pseudocode: s=string\n",
            "actual c code:  string s  \n",
            "predicted c code:  string s \n",
            "\n",
            "input pseudocode: read c\n",
            "actual c code:  cin >> c  \n",
            "predicted c code:  cin >> c \n",
            "\n"
          ],
          "name": "stdout"
        }
      ]
    },
    {
      "cell_type": "code",
      "metadata": {
        "id": "fk3B42rAzYhf"
      },
      "source": [],
      "execution_count": null,
      "outputs": []
    }
  ]
}